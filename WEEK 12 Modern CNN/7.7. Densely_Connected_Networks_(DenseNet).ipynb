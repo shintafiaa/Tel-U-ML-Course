{
  "nbformat": 4,
  "nbformat_minor": 0,
  "metadata": {
    "colab": {
      "name": "7.7. Densely Connected Networks (DenseNet).ipynb",
      "provenance": [],
      "collapsed_sections": [],
      "authorship_tag": "ABX9TyMlRq/HCEYMYcz72V5Yw9fE",
      "include_colab_link": true
    },
    "kernelspec": {
      "name": "python3",
      "display_name": "Python 3"
    },
    "language_info": {
      "name": "python"
    },
    "accelerator": "GPU",
    "widgets": {
      "application/vnd.jupyter.widget-state+json": {
        "50fe739ac95e4f68874656aeb5749908": {
          "model_module": "@jupyter-widgets/controls",
          "model_name": "HBoxModel",
          "model_module_version": "1.5.0",
          "state": {
            "_view_name": "HBoxView",
            "_dom_classes": [],
            "_model_name": "HBoxModel",
            "_view_module": "@jupyter-widgets/controls",
            "_model_module_version": "1.5.0",
            "_view_count": null,
            "_view_module_version": "1.5.0",
            "box_style": "",
            "layout": "IPY_MODEL_bed6432314844deb8d2d13cdc55c6881",
            "_model_module": "@jupyter-widgets/controls",
            "children": [
              "IPY_MODEL_a027348f511544dc981efd39d2e8dc19",
              "IPY_MODEL_c7a82a81572448e09e9a2290a86a80a4",
              "IPY_MODEL_a48953a36f604cb4ac361527fa3c06cc"
            ]
          }
        },
        "bed6432314844deb8d2d13cdc55c6881": {
          "model_module": "@jupyter-widgets/base",
          "model_name": "LayoutModel",
          "model_module_version": "1.2.0",
          "state": {
            "_view_name": "LayoutView",
            "grid_template_rows": null,
            "right": null,
            "justify_content": null,
            "_view_module": "@jupyter-widgets/base",
            "overflow": null,
            "_model_module_version": "1.2.0",
            "_view_count": null,
            "flex_flow": null,
            "width": null,
            "min_width": null,
            "border": null,
            "align_items": null,
            "bottom": null,
            "_model_module": "@jupyter-widgets/base",
            "top": null,
            "grid_column": null,
            "overflow_y": null,
            "overflow_x": null,
            "grid_auto_flow": null,
            "grid_area": null,
            "grid_template_columns": null,
            "flex": null,
            "_model_name": "LayoutModel",
            "justify_items": null,
            "grid_row": null,
            "max_height": null,
            "align_content": null,
            "visibility": null,
            "align_self": null,
            "height": null,
            "min_height": null,
            "padding": null,
            "grid_auto_rows": null,
            "grid_gap": null,
            "max_width": null,
            "order": null,
            "_view_module_version": "1.2.0",
            "grid_template_areas": null,
            "object_position": null,
            "object_fit": null,
            "grid_auto_columns": null,
            "margin": null,
            "display": null,
            "left": null
          }
        },
        "a027348f511544dc981efd39d2e8dc19": {
          "model_module": "@jupyter-widgets/controls",
          "model_name": "HTMLModel",
          "model_module_version": "1.5.0",
          "state": {
            "_view_name": "HTMLView",
            "style": "IPY_MODEL_480f4b053b8240ec8add8a4f8d0787aa",
            "_dom_classes": [],
            "description": "",
            "_model_name": "HTMLModel",
            "placeholder": "​",
            "_view_module": "@jupyter-widgets/controls",
            "_model_module_version": "1.5.0",
            "value": "",
            "_view_count": null,
            "_view_module_version": "1.5.0",
            "description_tooltip": null,
            "_model_module": "@jupyter-widgets/controls",
            "layout": "IPY_MODEL_6de26686db1e4c3a974d3f6fcf700a25"
          }
        },
        "c7a82a81572448e09e9a2290a86a80a4": {
          "model_module": "@jupyter-widgets/controls",
          "model_name": "FloatProgressModel",
          "model_module_version": "1.5.0",
          "state": {
            "_view_name": "ProgressView",
            "style": "IPY_MODEL_51bda1ea6925463498c45a2131f79825",
            "_dom_classes": [],
            "description": "",
            "_model_name": "FloatProgressModel",
            "bar_style": "success",
            "max": 26421880,
            "_view_module": "@jupyter-widgets/controls",
            "_model_module_version": "1.5.0",
            "value": 26421880,
            "_view_count": null,
            "_view_module_version": "1.5.0",
            "orientation": "horizontal",
            "min": 0,
            "description_tooltip": null,
            "_model_module": "@jupyter-widgets/controls",
            "layout": "IPY_MODEL_3d1841a0b7df4935997272d5baaba7c7"
          }
        },
        "a48953a36f604cb4ac361527fa3c06cc": {
          "model_module": "@jupyter-widgets/controls",
          "model_name": "HTMLModel",
          "model_module_version": "1.5.0",
          "state": {
            "_view_name": "HTMLView",
            "style": "IPY_MODEL_79fb120cb7b64515b1ae95bf4d274613",
            "_dom_classes": [],
            "description": "",
            "_model_name": "HTMLModel",
            "placeholder": "​",
            "_view_module": "@jupyter-widgets/controls",
            "_model_module_version": "1.5.0",
            "value": " 26422272/? [00:00&lt;00:00, 73524135.24it/s]",
            "_view_count": null,
            "_view_module_version": "1.5.0",
            "description_tooltip": null,
            "_model_module": "@jupyter-widgets/controls",
            "layout": "IPY_MODEL_526b9d4dc461437bac4a153cb0d0455b"
          }
        },
        "480f4b053b8240ec8add8a4f8d0787aa": {
          "model_module": "@jupyter-widgets/controls",
          "model_name": "DescriptionStyleModel",
          "model_module_version": "1.5.0",
          "state": {
            "_view_name": "StyleView",
            "_model_name": "DescriptionStyleModel",
            "description_width": "",
            "_view_module": "@jupyter-widgets/base",
            "_model_module_version": "1.5.0",
            "_view_count": null,
            "_view_module_version": "1.2.0",
            "_model_module": "@jupyter-widgets/controls"
          }
        },
        "6de26686db1e4c3a974d3f6fcf700a25": {
          "model_module": "@jupyter-widgets/base",
          "model_name": "LayoutModel",
          "model_module_version": "1.2.0",
          "state": {
            "_view_name": "LayoutView",
            "grid_template_rows": null,
            "right": null,
            "justify_content": null,
            "_view_module": "@jupyter-widgets/base",
            "overflow": null,
            "_model_module_version": "1.2.0",
            "_view_count": null,
            "flex_flow": null,
            "width": null,
            "min_width": null,
            "border": null,
            "align_items": null,
            "bottom": null,
            "_model_module": "@jupyter-widgets/base",
            "top": null,
            "grid_column": null,
            "overflow_y": null,
            "overflow_x": null,
            "grid_auto_flow": null,
            "grid_area": null,
            "grid_template_columns": null,
            "flex": null,
            "_model_name": "LayoutModel",
            "justify_items": null,
            "grid_row": null,
            "max_height": null,
            "align_content": null,
            "visibility": null,
            "align_self": null,
            "height": null,
            "min_height": null,
            "padding": null,
            "grid_auto_rows": null,
            "grid_gap": null,
            "max_width": null,
            "order": null,
            "_view_module_version": "1.2.0",
            "grid_template_areas": null,
            "object_position": null,
            "object_fit": null,
            "grid_auto_columns": null,
            "margin": null,
            "display": null,
            "left": null
          }
        },
        "51bda1ea6925463498c45a2131f79825": {
          "model_module": "@jupyter-widgets/controls",
          "model_name": "ProgressStyleModel",
          "model_module_version": "1.5.0",
          "state": {
            "_view_name": "StyleView",
            "_model_name": "ProgressStyleModel",
            "description_width": "",
            "_view_module": "@jupyter-widgets/base",
            "_model_module_version": "1.5.0",
            "_view_count": null,
            "_view_module_version": "1.2.0",
            "bar_color": null,
            "_model_module": "@jupyter-widgets/controls"
          }
        },
        "3d1841a0b7df4935997272d5baaba7c7": {
          "model_module": "@jupyter-widgets/base",
          "model_name": "LayoutModel",
          "model_module_version": "1.2.0",
          "state": {
            "_view_name": "LayoutView",
            "grid_template_rows": null,
            "right": null,
            "justify_content": null,
            "_view_module": "@jupyter-widgets/base",
            "overflow": null,
            "_model_module_version": "1.2.0",
            "_view_count": null,
            "flex_flow": null,
            "width": null,
            "min_width": null,
            "border": null,
            "align_items": null,
            "bottom": null,
            "_model_module": "@jupyter-widgets/base",
            "top": null,
            "grid_column": null,
            "overflow_y": null,
            "overflow_x": null,
            "grid_auto_flow": null,
            "grid_area": null,
            "grid_template_columns": null,
            "flex": null,
            "_model_name": "LayoutModel",
            "justify_items": null,
            "grid_row": null,
            "max_height": null,
            "align_content": null,
            "visibility": null,
            "align_self": null,
            "height": null,
            "min_height": null,
            "padding": null,
            "grid_auto_rows": null,
            "grid_gap": null,
            "max_width": null,
            "order": null,
            "_view_module_version": "1.2.0",
            "grid_template_areas": null,
            "object_position": null,
            "object_fit": null,
            "grid_auto_columns": null,
            "margin": null,
            "display": null,
            "left": null
          }
        },
        "79fb120cb7b64515b1ae95bf4d274613": {
          "model_module": "@jupyter-widgets/controls",
          "model_name": "DescriptionStyleModel",
          "model_module_version": "1.5.0",
          "state": {
            "_view_name": "StyleView",
            "_model_name": "DescriptionStyleModel",
            "description_width": "",
            "_view_module": "@jupyter-widgets/base",
            "_model_module_version": "1.5.0",
            "_view_count": null,
            "_view_module_version": "1.2.0",
            "_model_module": "@jupyter-widgets/controls"
          }
        },
        "526b9d4dc461437bac4a153cb0d0455b": {
          "model_module": "@jupyter-widgets/base",
          "model_name": "LayoutModel",
          "model_module_version": "1.2.0",
          "state": {
            "_view_name": "LayoutView",
            "grid_template_rows": null,
            "right": null,
            "justify_content": null,
            "_view_module": "@jupyter-widgets/base",
            "overflow": null,
            "_model_module_version": "1.2.0",
            "_view_count": null,
            "flex_flow": null,
            "width": null,
            "min_width": null,
            "border": null,
            "align_items": null,
            "bottom": null,
            "_model_module": "@jupyter-widgets/base",
            "top": null,
            "grid_column": null,
            "overflow_y": null,
            "overflow_x": null,
            "grid_auto_flow": null,
            "grid_area": null,
            "grid_template_columns": null,
            "flex": null,
            "_model_name": "LayoutModel",
            "justify_items": null,
            "grid_row": null,
            "max_height": null,
            "align_content": null,
            "visibility": null,
            "align_self": null,
            "height": null,
            "min_height": null,
            "padding": null,
            "grid_auto_rows": null,
            "grid_gap": null,
            "max_width": null,
            "order": null,
            "_view_module_version": "1.2.0",
            "grid_template_areas": null,
            "object_position": null,
            "object_fit": null,
            "grid_auto_columns": null,
            "margin": null,
            "display": null,
            "left": null
          }
        },
        "de1aa73f86524a07a5b1bf961c9fab15": {
          "model_module": "@jupyter-widgets/controls",
          "model_name": "HBoxModel",
          "model_module_version": "1.5.0",
          "state": {
            "_view_name": "HBoxView",
            "_dom_classes": [],
            "_model_name": "HBoxModel",
            "_view_module": "@jupyter-widgets/controls",
            "_model_module_version": "1.5.0",
            "_view_count": null,
            "_view_module_version": "1.5.0",
            "box_style": "",
            "layout": "IPY_MODEL_04ff4e64a1b14cc4ab1b09de82738a88",
            "_model_module": "@jupyter-widgets/controls",
            "children": [
              "IPY_MODEL_30d4dd175c6f46ae82402f6f74dd2f0f",
              "IPY_MODEL_f226e67e922a466c8cdf21297e6626f6",
              "IPY_MODEL_ccb4ae218ca944eebd3f51acd5316c42"
            ]
          }
        },
        "04ff4e64a1b14cc4ab1b09de82738a88": {
          "model_module": "@jupyter-widgets/base",
          "model_name": "LayoutModel",
          "model_module_version": "1.2.0",
          "state": {
            "_view_name": "LayoutView",
            "grid_template_rows": null,
            "right": null,
            "justify_content": null,
            "_view_module": "@jupyter-widgets/base",
            "overflow": null,
            "_model_module_version": "1.2.0",
            "_view_count": null,
            "flex_flow": null,
            "width": null,
            "min_width": null,
            "border": null,
            "align_items": null,
            "bottom": null,
            "_model_module": "@jupyter-widgets/base",
            "top": null,
            "grid_column": null,
            "overflow_y": null,
            "overflow_x": null,
            "grid_auto_flow": null,
            "grid_area": null,
            "grid_template_columns": null,
            "flex": null,
            "_model_name": "LayoutModel",
            "justify_items": null,
            "grid_row": null,
            "max_height": null,
            "align_content": null,
            "visibility": null,
            "align_self": null,
            "height": null,
            "min_height": null,
            "padding": null,
            "grid_auto_rows": null,
            "grid_gap": null,
            "max_width": null,
            "order": null,
            "_view_module_version": "1.2.0",
            "grid_template_areas": null,
            "object_position": null,
            "object_fit": null,
            "grid_auto_columns": null,
            "margin": null,
            "display": null,
            "left": null
          }
        },
        "30d4dd175c6f46ae82402f6f74dd2f0f": {
          "model_module": "@jupyter-widgets/controls",
          "model_name": "HTMLModel",
          "model_module_version": "1.5.0",
          "state": {
            "_view_name": "HTMLView",
            "style": "IPY_MODEL_5fe7a15247194f48b0e48cfbd8f07531",
            "_dom_classes": [],
            "description": "",
            "_model_name": "HTMLModel",
            "placeholder": "​",
            "_view_module": "@jupyter-widgets/controls",
            "_model_module_version": "1.5.0",
            "value": "",
            "_view_count": null,
            "_view_module_version": "1.5.0",
            "description_tooltip": null,
            "_model_module": "@jupyter-widgets/controls",
            "layout": "IPY_MODEL_aed190ac5963488db1c6a031b09055b9"
          }
        },
        "f226e67e922a466c8cdf21297e6626f6": {
          "model_module": "@jupyter-widgets/controls",
          "model_name": "FloatProgressModel",
          "model_module_version": "1.5.0",
          "state": {
            "_view_name": "ProgressView",
            "style": "IPY_MODEL_e2f0764c71b942b5ad39d098d7140238",
            "_dom_classes": [],
            "description": "",
            "_model_name": "FloatProgressModel",
            "bar_style": "success",
            "max": 29515,
            "_view_module": "@jupyter-widgets/controls",
            "_model_module_version": "1.5.0",
            "value": 29515,
            "_view_count": null,
            "_view_module_version": "1.5.0",
            "orientation": "horizontal",
            "min": 0,
            "description_tooltip": null,
            "_model_module": "@jupyter-widgets/controls",
            "layout": "IPY_MODEL_4d2b3fbd1e94416d9ffa10761e20435c"
          }
        },
        "ccb4ae218ca944eebd3f51acd5316c42": {
          "model_module": "@jupyter-widgets/controls",
          "model_name": "HTMLModel",
          "model_module_version": "1.5.0",
          "state": {
            "_view_name": "HTMLView",
            "style": "IPY_MODEL_e960f9bc5a9f46bdab819c6b9b45f1d7",
            "_dom_classes": [],
            "description": "",
            "_model_name": "HTMLModel",
            "placeholder": "​",
            "_view_module": "@jupyter-widgets/controls",
            "_model_module_version": "1.5.0",
            "value": " 29696/? [00:00&lt;00:00, 765723.10it/s]",
            "_view_count": null,
            "_view_module_version": "1.5.0",
            "description_tooltip": null,
            "_model_module": "@jupyter-widgets/controls",
            "layout": "IPY_MODEL_f7360262ad754435a5c68a0c590bece8"
          }
        },
        "5fe7a15247194f48b0e48cfbd8f07531": {
          "model_module": "@jupyter-widgets/controls",
          "model_name": "DescriptionStyleModel",
          "model_module_version": "1.5.0",
          "state": {
            "_view_name": "StyleView",
            "_model_name": "DescriptionStyleModel",
            "description_width": "",
            "_view_module": "@jupyter-widgets/base",
            "_model_module_version": "1.5.0",
            "_view_count": null,
            "_view_module_version": "1.2.0",
            "_model_module": "@jupyter-widgets/controls"
          }
        },
        "aed190ac5963488db1c6a031b09055b9": {
          "model_module": "@jupyter-widgets/base",
          "model_name": "LayoutModel",
          "model_module_version": "1.2.0",
          "state": {
            "_view_name": "LayoutView",
            "grid_template_rows": null,
            "right": null,
            "justify_content": null,
            "_view_module": "@jupyter-widgets/base",
            "overflow": null,
            "_model_module_version": "1.2.0",
            "_view_count": null,
            "flex_flow": null,
            "width": null,
            "min_width": null,
            "border": null,
            "align_items": null,
            "bottom": null,
            "_model_module": "@jupyter-widgets/base",
            "top": null,
            "grid_column": null,
            "overflow_y": null,
            "overflow_x": null,
            "grid_auto_flow": null,
            "grid_area": null,
            "grid_template_columns": null,
            "flex": null,
            "_model_name": "LayoutModel",
            "justify_items": null,
            "grid_row": null,
            "max_height": null,
            "align_content": null,
            "visibility": null,
            "align_self": null,
            "height": null,
            "min_height": null,
            "padding": null,
            "grid_auto_rows": null,
            "grid_gap": null,
            "max_width": null,
            "order": null,
            "_view_module_version": "1.2.0",
            "grid_template_areas": null,
            "object_position": null,
            "object_fit": null,
            "grid_auto_columns": null,
            "margin": null,
            "display": null,
            "left": null
          }
        },
        "e2f0764c71b942b5ad39d098d7140238": {
          "model_module": "@jupyter-widgets/controls",
          "model_name": "ProgressStyleModel",
          "model_module_version": "1.5.0",
          "state": {
            "_view_name": "StyleView",
            "_model_name": "ProgressStyleModel",
            "description_width": "",
            "_view_module": "@jupyter-widgets/base",
            "_model_module_version": "1.5.0",
            "_view_count": null,
            "_view_module_version": "1.2.0",
            "bar_color": null,
            "_model_module": "@jupyter-widgets/controls"
          }
        },
        "4d2b3fbd1e94416d9ffa10761e20435c": {
          "model_module": "@jupyter-widgets/base",
          "model_name": "LayoutModel",
          "model_module_version": "1.2.0",
          "state": {
            "_view_name": "LayoutView",
            "grid_template_rows": null,
            "right": null,
            "justify_content": null,
            "_view_module": "@jupyter-widgets/base",
            "overflow": null,
            "_model_module_version": "1.2.0",
            "_view_count": null,
            "flex_flow": null,
            "width": null,
            "min_width": null,
            "border": null,
            "align_items": null,
            "bottom": null,
            "_model_module": "@jupyter-widgets/base",
            "top": null,
            "grid_column": null,
            "overflow_y": null,
            "overflow_x": null,
            "grid_auto_flow": null,
            "grid_area": null,
            "grid_template_columns": null,
            "flex": null,
            "_model_name": "LayoutModel",
            "justify_items": null,
            "grid_row": null,
            "max_height": null,
            "align_content": null,
            "visibility": null,
            "align_self": null,
            "height": null,
            "min_height": null,
            "padding": null,
            "grid_auto_rows": null,
            "grid_gap": null,
            "max_width": null,
            "order": null,
            "_view_module_version": "1.2.0",
            "grid_template_areas": null,
            "object_position": null,
            "object_fit": null,
            "grid_auto_columns": null,
            "margin": null,
            "display": null,
            "left": null
          }
        },
        "e960f9bc5a9f46bdab819c6b9b45f1d7": {
          "model_module": "@jupyter-widgets/controls",
          "model_name": "DescriptionStyleModel",
          "model_module_version": "1.5.0",
          "state": {
            "_view_name": "StyleView",
            "_model_name": "DescriptionStyleModel",
            "description_width": "",
            "_view_module": "@jupyter-widgets/base",
            "_model_module_version": "1.5.0",
            "_view_count": null,
            "_view_module_version": "1.2.0",
            "_model_module": "@jupyter-widgets/controls"
          }
        },
        "f7360262ad754435a5c68a0c590bece8": {
          "model_module": "@jupyter-widgets/base",
          "model_name": "LayoutModel",
          "model_module_version": "1.2.0",
          "state": {
            "_view_name": "LayoutView",
            "grid_template_rows": null,
            "right": null,
            "justify_content": null,
            "_view_module": "@jupyter-widgets/base",
            "overflow": null,
            "_model_module_version": "1.2.0",
            "_view_count": null,
            "flex_flow": null,
            "width": null,
            "min_width": null,
            "border": null,
            "align_items": null,
            "bottom": null,
            "_model_module": "@jupyter-widgets/base",
            "top": null,
            "grid_column": null,
            "overflow_y": null,
            "overflow_x": null,
            "grid_auto_flow": null,
            "grid_area": null,
            "grid_template_columns": null,
            "flex": null,
            "_model_name": "LayoutModel",
            "justify_items": null,
            "grid_row": null,
            "max_height": null,
            "align_content": null,
            "visibility": null,
            "align_self": null,
            "height": null,
            "min_height": null,
            "padding": null,
            "grid_auto_rows": null,
            "grid_gap": null,
            "max_width": null,
            "order": null,
            "_view_module_version": "1.2.0",
            "grid_template_areas": null,
            "object_position": null,
            "object_fit": null,
            "grid_auto_columns": null,
            "margin": null,
            "display": null,
            "left": null
          }
        },
        "4ef9d6b251ba4af594dfbcb4189e6e88": {
          "model_module": "@jupyter-widgets/controls",
          "model_name": "HBoxModel",
          "model_module_version": "1.5.0",
          "state": {
            "_view_name": "HBoxView",
            "_dom_classes": [],
            "_model_name": "HBoxModel",
            "_view_module": "@jupyter-widgets/controls",
            "_model_module_version": "1.5.0",
            "_view_count": null,
            "_view_module_version": "1.5.0",
            "box_style": "",
            "layout": "IPY_MODEL_922319b2c9d54cea94508ede6f38977e",
            "_model_module": "@jupyter-widgets/controls",
            "children": [
              "IPY_MODEL_f076a975fa0144ec97ca8fc9afd29aeb",
              "IPY_MODEL_d27f90841c4c474bb921fd5cf5aafdaf",
              "IPY_MODEL_d5e369e9436244edafad77f594438aab"
            ]
          }
        },
        "922319b2c9d54cea94508ede6f38977e": {
          "model_module": "@jupyter-widgets/base",
          "model_name": "LayoutModel",
          "model_module_version": "1.2.0",
          "state": {
            "_view_name": "LayoutView",
            "grid_template_rows": null,
            "right": null,
            "justify_content": null,
            "_view_module": "@jupyter-widgets/base",
            "overflow": null,
            "_model_module_version": "1.2.0",
            "_view_count": null,
            "flex_flow": null,
            "width": null,
            "min_width": null,
            "border": null,
            "align_items": null,
            "bottom": null,
            "_model_module": "@jupyter-widgets/base",
            "top": null,
            "grid_column": null,
            "overflow_y": null,
            "overflow_x": null,
            "grid_auto_flow": null,
            "grid_area": null,
            "grid_template_columns": null,
            "flex": null,
            "_model_name": "LayoutModel",
            "justify_items": null,
            "grid_row": null,
            "max_height": null,
            "align_content": null,
            "visibility": null,
            "align_self": null,
            "height": null,
            "min_height": null,
            "padding": null,
            "grid_auto_rows": null,
            "grid_gap": null,
            "max_width": null,
            "order": null,
            "_view_module_version": "1.2.0",
            "grid_template_areas": null,
            "object_position": null,
            "object_fit": null,
            "grid_auto_columns": null,
            "margin": null,
            "display": null,
            "left": null
          }
        },
        "f076a975fa0144ec97ca8fc9afd29aeb": {
          "model_module": "@jupyter-widgets/controls",
          "model_name": "HTMLModel",
          "model_module_version": "1.5.0",
          "state": {
            "_view_name": "HTMLView",
            "style": "IPY_MODEL_8f5a4586ed324ea798eb11e0078539ec",
            "_dom_classes": [],
            "description": "",
            "_model_name": "HTMLModel",
            "placeholder": "​",
            "_view_module": "@jupyter-widgets/controls",
            "_model_module_version": "1.5.0",
            "value": "",
            "_view_count": null,
            "_view_module_version": "1.5.0",
            "description_tooltip": null,
            "_model_module": "@jupyter-widgets/controls",
            "layout": "IPY_MODEL_b40da02c9be74067b8b0fc986555b9b8"
          }
        },
        "d27f90841c4c474bb921fd5cf5aafdaf": {
          "model_module": "@jupyter-widgets/controls",
          "model_name": "FloatProgressModel",
          "model_module_version": "1.5.0",
          "state": {
            "_view_name": "ProgressView",
            "style": "IPY_MODEL_9ec6d626021f47ee8e506ffa8eefc4bf",
            "_dom_classes": [],
            "description": "",
            "_model_name": "FloatProgressModel",
            "bar_style": "success",
            "max": 4422102,
            "_view_module": "@jupyter-widgets/controls",
            "_model_module_version": "1.5.0",
            "value": 4422102,
            "_view_count": null,
            "_view_module_version": "1.5.0",
            "orientation": "horizontal",
            "min": 0,
            "description_tooltip": null,
            "_model_module": "@jupyter-widgets/controls",
            "layout": "IPY_MODEL_a9f10dad6a8247ef9c0ba5fea8fbcb35"
          }
        },
        "d5e369e9436244edafad77f594438aab": {
          "model_module": "@jupyter-widgets/controls",
          "model_name": "HTMLModel",
          "model_module_version": "1.5.0",
          "state": {
            "_view_name": "HTMLView",
            "style": "IPY_MODEL_cb9275b109854f92bd13f9e6634b28ef",
            "_dom_classes": [],
            "description": "",
            "_model_name": "HTMLModel",
            "placeholder": "​",
            "_view_module": "@jupyter-widgets/controls",
            "_model_module_version": "1.5.0",
            "value": " 4422656/? [00:00&lt;00:00, 10889695.03it/s]",
            "_view_count": null,
            "_view_module_version": "1.5.0",
            "description_tooltip": null,
            "_model_module": "@jupyter-widgets/controls",
            "layout": "IPY_MODEL_b4bdccf3c13b4995b6af8a0d3fbc0cad"
          }
        },
        "8f5a4586ed324ea798eb11e0078539ec": {
          "model_module": "@jupyter-widgets/controls",
          "model_name": "DescriptionStyleModel",
          "model_module_version": "1.5.0",
          "state": {
            "_view_name": "StyleView",
            "_model_name": "DescriptionStyleModel",
            "description_width": "",
            "_view_module": "@jupyter-widgets/base",
            "_model_module_version": "1.5.0",
            "_view_count": null,
            "_view_module_version": "1.2.0",
            "_model_module": "@jupyter-widgets/controls"
          }
        },
        "b40da02c9be74067b8b0fc986555b9b8": {
          "model_module": "@jupyter-widgets/base",
          "model_name": "LayoutModel",
          "model_module_version": "1.2.0",
          "state": {
            "_view_name": "LayoutView",
            "grid_template_rows": null,
            "right": null,
            "justify_content": null,
            "_view_module": "@jupyter-widgets/base",
            "overflow": null,
            "_model_module_version": "1.2.0",
            "_view_count": null,
            "flex_flow": null,
            "width": null,
            "min_width": null,
            "border": null,
            "align_items": null,
            "bottom": null,
            "_model_module": "@jupyter-widgets/base",
            "top": null,
            "grid_column": null,
            "overflow_y": null,
            "overflow_x": null,
            "grid_auto_flow": null,
            "grid_area": null,
            "grid_template_columns": null,
            "flex": null,
            "_model_name": "LayoutModel",
            "justify_items": null,
            "grid_row": null,
            "max_height": null,
            "align_content": null,
            "visibility": null,
            "align_self": null,
            "height": null,
            "min_height": null,
            "padding": null,
            "grid_auto_rows": null,
            "grid_gap": null,
            "max_width": null,
            "order": null,
            "_view_module_version": "1.2.0",
            "grid_template_areas": null,
            "object_position": null,
            "object_fit": null,
            "grid_auto_columns": null,
            "margin": null,
            "display": null,
            "left": null
          }
        },
        "9ec6d626021f47ee8e506ffa8eefc4bf": {
          "model_module": "@jupyter-widgets/controls",
          "model_name": "ProgressStyleModel",
          "model_module_version": "1.5.0",
          "state": {
            "_view_name": "StyleView",
            "_model_name": "ProgressStyleModel",
            "description_width": "",
            "_view_module": "@jupyter-widgets/base",
            "_model_module_version": "1.5.0",
            "_view_count": null,
            "_view_module_version": "1.2.0",
            "bar_color": null,
            "_model_module": "@jupyter-widgets/controls"
          }
        },
        "a9f10dad6a8247ef9c0ba5fea8fbcb35": {
          "model_module": "@jupyter-widgets/base",
          "model_name": "LayoutModel",
          "model_module_version": "1.2.0",
          "state": {
            "_view_name": "LayoutView",
            "grid_template_rows": null,
            "right": null,
            "justify_content": null,
            "_view_module": "@jupyter-widgets/base",
            "overflow": null,
            "_model_module_version": "1.2.0",
            "_view_count": null,
            "flex_flow": null,
            "width": null,
            "min_width": null,
            "border": null,
            "align_items": null,
            "bottom": null,
            "_model_module": "@jupyter-widgets/base",
            "top": null,
            "grid_column": null,
            "overflow_y": null,
            "overflow_x": null,
            "grid_auto_flow": null,
            "grid_area": null,
            "grid_template_columns": null,
            "flex": null,
            "_model_name": "LayoutModel",
            "justify_items": null,
            "grid_row": null,
            "max_height": null,
            "align_content": null,
            "visibility": null,
            "align_self": null,
            "height": null,
            "min_height": null,
            "padding": null,
            "grid_auto_rows": null,
            "grid_gap": null,
            "max_width": null,
            "order": null,
            "_view_module_version": "1.2.0",
            "grid_template_areas": null,
            "object_position": null,
            "object_fit": null,
            "grid_auto_columns": null,
            "margin": null,
            "display": null,
            "left": null
          }
        },
        "cb9275b109854f92bd13f9e6634b28ef": {
          "model_module": "@jupyter-widgets/controls",
          "model_name": "DescriptionStyleModel",
          "model_module_version": "1.5.0",
          "state": {
            "_view_name": "StyleView",
            "_model_name": "DescriptionStyleModel",
            "description_width": "",
            "_view_module": "@jupyter-widgets/base",
            "_model_module_version": "1.5.0",
            "_view_count": null,
            "_view_module_version": "1.2.0",
            "_model_module": "@jupyter-widgets/controls"
          }
        },
        "b4bdccf3c13b4995b6af8a0d3fbc0cad": {
          "model_module": "@jupyter-widgets/base",
          "model_name": "LayoutModel",
          "model_module_version": "1.2.0",
          "state": {
            "_view_name": "LayoutView",
            "grid_template_rows": null,
            "right": null,
            "justify_content": null,
            "_view_module": "@jupyter-widgets/base",
            "overflow": null,
            "_model_module_version": "1.2.0",
            "_view_count": null,
            "flex_flow": null,
            "width": null,
            "min_width": null,
            "border": null,
            "align_items": null,
            "bottom": null,
            "_model_module": "@jupyter-widgets/base",
            "top": null,
            "grid_column": null,
            "overflow_y": null,
            "overflow_x": null,
            "grid_auto_flow": null,
            "grid_area": null,
            "grid_template_columns": null,
            "flex": null,
            "_model_name": "LayoutModel",
            "justify_items": null,
            "grid_row": null,
            "max_height": null,
            "align_content": null,
            "visibility": null,
            "align_self": null,
            "height": null,
            "min_height": null,
            "padding": null,
            "grid_auto_rows": null,
            "grid_gap": null,
            "max_width": null,
            "order": null,
            "_view_module_version": "1.2.0",
            "grid_template_areas": null,
            "object_position": null,
            "object_fit": null,
            "grid_auto_columns": null,
            "margin": null,
            "display": null,
            "left": null
          }
        },
        "40d31ca835c04a198027edd6acf3bc4b": {
          "model_module": "@jupyter-widgets/controls",
          "model_name": "HBoxModel",
          "model_module_version": "1.5.0",
          "state": {
            "_view_name": "HBoxView",
            "_dom_classes": [],
            "_model_name": "HBoxModel",
            "_view_module": "@jupyter-widgets/controls",
            "_model_module_version": "1.5.0",
            "_view_count": null,
            "_view_module_version": "1.5.0",
            "box_style": "",
            "layout": "IPY_MODEL_3d48b6b19cfc4114b26188ab7bae6d90",
            "_model_module": "@jupyter-widgets/controls",
            "children": [
              "IPY_MODEL_32bdb526574f409eb70642fe09cb7757",
              "IPY_MODEL_f731d0e723a843828519001f1785fcb2",
              "IPY_MODEL_edf2f625148244e997d5d621acfad61b"
            ]
          }
        },
        "3d48b6b19cfc4114b26188ab7bae6d90": {
          "model_module": "@jupyter-widgets/base",
          "model_name": "LayoutModel",
          "model_module_version": "1.2.0",
          "state": {
            "_view_name": "LayoutView",
            "grid_template_rows": null,
            "right": null,
            "justify_content": null,
            "_view_module": "@jupyter-widgets/base",
            "overflow": null,
            "_model_module_version": "1.2.0",
            "_view_count": null,
            "flex_flow": null,
            "width": null,
            "min_width": null,
            "border": null,
            "align_items": null,
            "bottom": null,
            "_model_module": "@jupyter-widgets/base",
            "top": null,
            "grid_column": null,
            "overflow_y": null,
            "overflow_x": null,
            "grid_auto_flow": null,
            "grid_area": null,
            "grid_template_columns": null,
            "flex": null,
            "_model_name": "LayoutModel",
            "justify_items": null,
            "grid_row": null,
            "max_height": null,
            "align_content": null,
            "visibility": null,
            "align_self": null,
            "height": null,
            "min_height": null,
            "padding": null,
            "grid_auto_rows": null,
            "grid_gap": null,
            "max_width": null,
            "order": null,
            "_view_module_version": "1.2.0",
            "grid_template_areas": null,
            "object_position": null,
            "object_fit": null,
            "grid_auto_columns": null,
            "margin": null,
            "display": null,
            "left": null
          }
        },
        "32bdb526574f409eb70642fe09cb7757": {
          "model_module": "@jupyter-widgets/controls",
          "model_name": "HTMLModel",
          "model_module_version": "1.5.0",
          "state": {
            "_view_name": "HTMLView",
            "style": "IPY_MODEL_9bef2cca39fe4697a403a652fde82259",
            "_dom_classes": [],
            "description": "",
            "_model_name": "HTMLModel",
            "placeholder": "​",
            "_view_module": "@jupyter-widgets/controls",
            "_model_module_version": "1.5.0",
            "value": "",
            "_view_count": null,
            "_view_module_version": "1.5.0",
            "description_tooltip": null,
            "_model_module": "@jupyter-widgets/controls",
            "layout": "IPY_MODEL_c8d17625e37f4741a0753dc9e0d8c707"
          }
        },
        "f731d0e723a843828519001f1785fcb2": {
          "model_module": "@jupyter-widgets/controls",
          "model_name": "FloatProgressModel",
          "model_module_version": "1.5.0",
          "state": {
            "_view_name": "ProgressView",
            "style": "IPY_MODEL_4a1b94706ae74120959b6f863e4e3689",
            "_dom_classes": [],
            "description": "",
            "_model_name": "FloatProgressModel",
            "bar_style": "success",
            "max": 5148,
            "_view_module": "@jupyter-widgets/controls",
            "_model_module_version": "1.5.0",
            "value": 5148,
            "_view_count": null,
            "_view_module_version": "1.5.0",
            "orientation": "horizontal",
            "min": 0,
            "description_tooltip": null,
            "_model_module": "@jupyter-widgets/controls",
            "layout": "IPY_MODEL_083780fb7ef04802bd7489b74cce81bb"
          }
        },
        "edf2f625148244e997d5d621acfad61b": {
          "model_module": "@jupyter-widgets/controls",
          "model_name": "HTMLModel",
          "model_module_version": "1.5.0",
          "state": {
            "_view_name": "HTMLView",
            "style": "IPY_MODEL_e113ec5a3de54631bf5045ac901758b9",
            "_dom_classes": [],
            "description": "",
            "_model_name": "HTMLModel",
            "placeholder": "​",
            "_view_module": "@jupyter-widgets/controls",
            "_model_module_version": "1.5.0",
            "value": " 6144/? [00:00&lt;00:00, 127263.95it/s]",
            "_view_count": null,
            "_view_module_version": "1.5.0",
            "description_tooltip": null,
            "_model_module": "@jupyter-widgets/controls",
            "layout": "IPY_MODEL_65db61da5e5d4fb6a554355173bf9b27"
          }
        },
        "9bef2cca39fe4697a403a652fde82259": {
          "model_module": "@jupyter-widgets/controls",
          "model_name": "DescriptionStyleModel",
          "model_module_version": "1.5.0",
          "state": {
            "_view_name": "StyleView",
            "_model_name": "DescriptionStyleModel",
            "description_width": "",
            "_view_module": "@jupyter-widgets/base",
            "_model_module_version": "1.5.0",
            "_view_count": null,
            "_view_module_version": "1.2.0",
            "_model_module": "@jupyter-widgets/controls"
          }
        },
        "c8d17625e37f4741a0753dc9e0d8c707": {
          "model_module": "@jupyter-widgets/base",
          "model_name": "LayoutModel",
          "model_module_version": "1.2.0",
          "state": {
            "_view_name": "LayoutView",
            "grid_template_rows": null,
            "right": null,
            "justify_content": null,
            "_view_module": "@jupyter-widgets/base",
            "overflow": null,
            "_model_module_version": "1.2.0",
            "_view_count": null,
            "flex_flow": null,
            "width": null,
            "min_width": null,
            "border": null,
            "align_items": null,
            "bottom": null,
            "_model_module": "@jupyter-widgets/base",
            "top": null,
            "grid_column": null,
            "overflow_y": null,
            "overflow_x": null,
            "grid_auto_flow": null,
            "grid_area": null,
            "grid_template_columns": null,
            "flex": null,
            "_model_name": "LayoutModel",
            "justify_items": null,
            "grid_row": null,
            "max_height": null,
            "align_content": null,
            "visibility": null,
            "align_self": null,
            "height": null,
            "min_height": null,
            "padding": null,
            "grid_auto_rows": null,
            "grid_gap": null,
            "max_width": null,
            "order": null,
            "_view_module_version": "1.2.0",
            "grid_template_areas": null,
            "object_position": null,
            "object_fit": null,
            "grid_auto_columns": null,
            "margin": null,
            "display": null,
            "left": null
          }
        },
        "4a1b94706ae74120959b6f863e4e3689": {
          "model_module": "@jupyter-widgets/controls",
          "model_name": "ProgressStyleModel",
          "model_module_version": "1.5.0",
          "state": {
            "_view_name": "StyleView",
            "_model_name": "ProgressStyleModel",
            "description_width": "",
            "_view_module": "@jupyter-widgets/base",
            "_model_module_version": "1.5.0",
            "_view_count": null,
            "_view_module_version": "1.2.0",
            "bar_color": null,
            "_model_module": "@jupyter-widgets/controls"
          }
        },
        "083780fb7ef04802bd7489b74cce81bb": {
          "model_module": "@jupyter-widgets/base",
          "model_name": "LayoutModel",
          "model_module_version": "1.2.0",
          "state": {
            "_view_name": "LayoutView",
            "grid_template_rows": null,
            "right": null,
            "justify_content": null,
            "_view_module": "@jupyter-widgets/base",
            "overflow": null,
            "_model_module_version": "1.2.0",
            "_view_count": null,
            "flex_flow": null,
            "width": null,
            "min_width": null,
            "border": null,
            "align_items": null,
            "bottom": null,
            "_model_module": "@jupyter-widgets/base",
            "top": null,
            "grid_column": null,
            "overflow_y": null,
            "overflow_x": null,
            "grid_auto_flow": null,
            "grid_area": null,
            "grid_template_columns": null,
            "flex": null,
            "_model_name": "LayoutModel",
            "justify_items": null,
            "grid_row": null,
            "max_height": null,
            "align_content": null,
            "visibility": null,
            "align_self": null,
            "height": null,
            "min_height": null,
            "padding": null,
            "grid_auto_rows": null,
            "grid_gap": null,
            "max_width": null,
            "order": null,
            "_view_module_version": "1.2.0",
            "grid_template_areas": null,
            "object_position": null,
            "object_fit": null,
            "grid_auto_columns": null,
            "margin": null,
            "display": null,
            "left": null
          }
        },
        "e113ec5a3de54631bf5045ac901758b9": {
          "model_module": "@jupyter-widgets/controls",
          "model_name": "DescriptionStyleModel",
          "model_module_version": "1.5.0",
          "state": {
            "_view_name": "StyleView",
            "_model_name": "DescriptionStyleModel",
            "description_width": "",
            "_view_module": "@jupyter-widgets/base",
            "_model_module_version": "1.5.0",
            "_view_count": null,
            "_view_module_version": "1.2.0",
            "_model_module": "@jupyter-widgets/controls"
          }
        },
        "65db61da5e5d4fb6a554355173bf9b27": {
          "model_module": "@jupyter-widgets/base",
          "model_name": "LayoutModel",
          "model_module_version": "1.2.0",
          "state": {
            "_view_name": "LayoutView",
            "grid_template_rows": null,
            "right": null,
            "justify_content": null,
            "_view_module": "@jupyter-widgets/base",
            "overflow": null,
            "_model_module_version": "1.2.0",
            "_view_count": null,
            "flex_flow": null,
            "width": null,
            "min_width": null,
            "border": null,
            "align_items": null,
            "bottom": null,
            "_model_module": "@jupyter-widgets/base",
            "top": null,
            "grid_column": null,
            "overflow_y": null,
            "overflow_x": null,
            "grid_auto_flow": null,
            "grid_area": null,
            "grid_template_columns": null,
            "flex": null,
            "_model_name": "LayoutModel",
            "justify_items": null,
            "grid_row": null,
            "max_height": null,
            "align_content": null,
            "visibility": null,
            "align_self": null,
            "height": null,
            "min_height": null,
            "padding": null,
            "grid_auto_rows": null,
            "grid_gap": null,
            "max_width": null,
            "order": null,
            "_view_module_version": "1.2.0",
            "grid_template_areas": null,
            "object_position": null,
            "object_fit": null,
            "grid_auto_columns": null,
            "margin": null,
            "display": null,
            "left": null
          }
        }
      }
    }
  },
  "cells": [
    {
      "cell_type": "markdown",
      "metadata": {
        "id": "view-in-github",
        "colab_type": "text"
      },
      "source": [
        "<a href=\"https://colab.research.google.com/github/shintafiaa/Tel-U-ML-Course/blob/main/WEEK%2012%20Modern%20CNN/7.7.%20Densely_Connected_Networks_(DenseNet).ipynb\" target=\"_parent\"><img src=\"https://colab.research.google.com/assets/colab-badge.svg\" alt=\"Open In Colab\"/></a>"
      ]
    },
    {
      "cell_type": "code",
      "source": [
        "!pip install d2l==0.17.0"
      ],
      "metadata": {
        "colab": {
          "base_uri": "https://localhost:8080/"
        },
        "id": "rP_Bhg1RSVlA",
        "outputId": "02029dd1-d74f-4bad-b7a6-e570945fdbe7"
      },
      "execution_count": 1,
      "outputs": [
        {
          "output_type": "stream",
          "name": "stdout",
          "text": [
            "Collecting d2l==0.17.0\n",
            "  Downloading d2l-0.17.0-py3-none-any.whl (83 kB)\n",
            "\u001b[?25l\r\u001b[K     |████                            | 10 kB 35.3 MB/s eta 0:00:01\r\u001b[K     |███████▉                        | 20 kB 32.5 MB/s eta 0:00:01\r\u001b[K     |███████████▉                    | 30 kB 21.8 MB/s eta 0:00:01\r\u001b[K     |███████████████▊                | 40 kB 17.8 MB/s eta 0:00:01\r\u001b[K     |███████████████████▊            | 51 kB 15.0 MB/s eta 0:00:01\r\u001b[K     |███████████████████████▋        | 61 kB 13.6 MB/s eta 0:00:01\r\u001b[K     |███████████████████████████▋    | 71 kB 12.7 MB/s eta 0:00:01\r\u001b[K     |███████████████████████████████▌| 81 kB 13.9 MB/s eta 0:00:01\r\u001b[K     |████████████████████████████████| 83 kB 1.2 MB/s \n",
            "\u001b[?25hRequirement already satisfied: requests in /usr/local/lib/python3.7/dist-packages (from d2l==0.17.0) (2.23.0)\n",
            "Requirement already satisfied: matplotlib in /usr/local/lib/python3.7/dist-packages (from d2l==0.17.0) (3.2.2)\n",
            "Requirement already satisfied: jupyter in /usr/local/lib/python3.7/dist-packages (from d2l==0.17.0) (1.0.0)\n",
            "Requirement already satisfied: pandas in /usr/local/lib/python3.7/dist-packages (from d2l==0.17.0) (1.1.5)\n",
            "Requirement already satisfied: numpy in /usr/local/lib/python3.7/dist-packages (from d2l==0.17.0) (1.19.5)\n",
            "Requirement already satisfied: nbconvert in /usr/local/lib/python3.7/dist-packages (from jupyter->d2l==0.17.0) (5.6.1)\n",
            "Requirement already satisfied: jupyter-console in /usr/local/lib/python3.7/dist-packages (from jupyter->d2l==0.17.0) (5.2.0)\n",
            "Requirement already satisfied: qtconsole in /usr/local/lib/python3.7/dist-packages (from jupyter->d2l==0.17.0) (5.2.2)\n",
            "Requirement already satisfied: ipywidgets in /usr/local/lib/python3.7/dist-packages (from jupyter->d2l==0.17.0) (7.6.5)\n",
            "Requirement already satisfied: ipykernel in /usr/local/lib/python3.7/dist-packages (from jupyter->d2l==0.17.0) (4.10.1)\n",
            "Requirement already satisfied: notebook in /usr/local/lib/python3.7/dist-packages (from jupyter->d2l==0.17.0) (5.3.1)\n",
            "Requirement already satisfied: ipython>=4.0.0 in /usr/local/lib/python3.7/dist-packages (from ipykernel->jupyter->d2l==0.17.0) (5.5.0)\n",
            "Requirement already satisfied: tornado>=4.0 in /usr/local/lib/python3.7/dist-packages (from ipykernel->jupyter->d2l==0.17.0) (5.1.1)\n",
            "Requirement already satisfied: jupyter-client in /usr/local/lib/python3.7/dist-packages (from ipykernel->jupyter->d2l==0.17.0) (5.3.5)\n",
            "Requirement already satisfied: traitlets>=4.1.0 in /usr/local/lib/python3.7/dist-packages (from ipykernel->jupyter->d2l==0.17.0) (5.1.1)\n",
            "Requirement already satisfied: pygments in /usr/local/lib/python3.7/dist-packages (from ipython>=4.0.0->ipykernel->jupyter->d2l==0.17.0) (2.6.1)\n",
            "Requirement already satisfied: prompt-toolkit<2.0.0,>=1.0.4 in /usr/local/lib/python3.7/dist-packages (from ipython>=4.0.0->ipykernel->jupyter->d2l==0.17.0) (1.0.18)\n",
            "Requirement already satisfied: pexpect in /usr/local/lib/python3.7/dist-packages (from ipython>=4.0.0->ipykernel->jupyter->d2l==0.17.0) (4.8.0)\n",
            "Requirement already satisfied: setuptools>=18.5 in /usr/local/lib/python3.7/dist-packages (from ipython>=4.0.0->ipykernel->jupyter->d2l==0.17.0) (57.4.0)\n",
            "Requirement already satisfied: pickleshare in /usr/local/lib/python3.7/dist-packages (from ipython>=4.0.0->ipykernel->jupyter->d2l==0.17.0) (0.7.5)\n",
            "Requirement already satisfied: decorator in /usr/local/lib/python3.7/dist-packages (from ipython>=4.0.0->ipykernel->jupyter->d2l==0.17.0) (4.4.2)\n",
            "Requirement already satisfied: simplegeneric>0.8 in /usr/local/lib/python3.7/dist-packages (from ipython>=4.0.0->ipykernel->jupyter->d2l==0.17.0) (0.8.1)\n",
            "Requirement already satisfied: wcwidth in /usr/local/lib/python3.7/dist-packages (from prompt-toolkit<2.0.0,>=1.0.4->ipython>=4.0.0->ipykernel->jupyter->d2l==0.17.0) (0.2.5)\n",
            "Requirement already satisfied: six>=1.9.0 in /usr/local/lib/python3.7/dist-packages (from prompt-toolkit<2.0.0,>=1.0.4->ipython>=4.0.0->ipykernel->jupyter->d2l==0.17.0) (1.15.0)\n",
            "Requirement already satisfied: ipython-genutils~=0.2.0 in /usr/local/lib/python3.7/dist-packages (from ipywidgets->jupyter->d2l==0.17.0) (0.2.0)\n",
            "Requirement already satisfied: nbformat>=4.2.0 in /usr/local/lib/python3.7/dist-packages (from ipywidgets->jupyter->d2l==0.17.0) (5.1.3)\n",
            "Requirement already satisfied: jupyterlab-widgets>=1.0.0 in /usr/local/lib/python3.7/dist-packages (from ipywidgets->jupyter->d2l==0.17.0) (1.0.2)\n",
            "Requirement already satisfied: widgetsnbextension~=3.5.0 in /usr/local/lib/python3.7/dist-packages (from ipywidgets->jupyter->d2l==0.17.0) (3.5.2)\n",
            "Requirement already satisfied: jsonschema!=2.5.0,>=2.4 in /usr/local/lib/python3.7/dist-packages (from nbformat>=4.2.0->ipywidgets->jupyter->d2l==0.17.0) (4.3.3)\n",
            "Requirement already satisfied: jupyter-core in /usr/local/lib/python3.7/dist-packages (from nbformat>=4.2.0->ipywidgets->jupyter->d2l==0.17.0) (4.9.1)\n",
            "Requirement already satisfied: attrs>=17.4.0 in /usr/local/lib/python3.7/dist-packages (from jsonschema!=2.5.0,>=2.4->nbformat>=4.2.0->ipywidgets->jupyter->d2l==0.17.0) (21.4.0)\n",
            "Requirement already satisfied: typing-extensions in /usr/local/lib/python3.7/dist-packages (from jsonschema!=2.5.0,>=2.4->nbformat>=4.2.0->ipywidgets->jupyter->d2l==0.17.0) (3.10.0.2)\n",
            "Requirement already satisfied: importlib-metadata in /usr/local/lib/python3.7/dist-packages (from jsonschema!=2.5.0,>=2.4->nbformat>=4.2.0->ipywidgets->jupyter->d2l==0.17.0) (4.10.0)\n",
            "Requirement already satisfied: importlib-resources>=1.4.0 in /usr/local/lib/python3.7/dist-packages (from jsonschema!=2.5.0,>=2.4->nbformat>=4.2.0->ipywidgets->jupyter->d2l==0.17.0) (5.4.0)\n",
            "Requirement already satisfied: pyrsistent!=0.17.0,!=0.17.1,!=0.17.2,>=0.14.0 in /usr/local/lib/python3.7/dist-packages (from jsonschema!=2.5.0,>=2.4->nbformat>=4.2.0->ipywidgets->jupyter->d2l==0.17.0) (0.18.0)\n",
            "Requirement already satisfied: zipp>=3.1.0 in /usr/local/lib/python3.7/dist-packages (from importlib-resources>=1.4.0->jsonschema!=2.5.0,>=2.4->nbformat>=4.2.0->ipywidgets->jupyter->d2l==0.17.0) (3.7.0)\n",
            "Requirement already satisfied: jinja2 in /usr/local/lib/python3.7/dist-packages (from notebook->jupyter->d2l==0.17.0) (2.11.3)\n",
            "Requirement already satisfied: Send2Trash in /usr/local/lib/python3.7/dist-packages (from notebook->jupyter->d2l==0.17.0) (1.8.0)\n",
            "Requirement already satisfied: terminado>=0.8.1 in /usr/local/lib/python3.7/dist-packages (from notebook->jupyter->d2l==0.17.0) (0.12.1)\n",
            "Requirement already satisfied: pyzmq>=13 in /usr/local/lib/python3.7/dist-packages (from jupyter-client->ipykernel->jupyter->d2l==0.17.0) (22.3.0)\n",
            "Requirement already satisfied: python-dateutil>=2.1 in /usr/local/lib/python3.7/dist-packages (from jupyter-client->ipykernel->jupyter->d2l==0.17.0) (2.8.2)\n",
            "Requirement already satisfied: ptyprocess in /usr/local/lib/python3.7/dist-packages (from terminado>=0.8.1->notebook->jupyter->d2l==0.17.0) (0.7.0)\n",
            "Requirement already satisfied: MarkupSafe>=0.23 in /usr/local/lib/python3.7/dist-packages (from jinja2->notebook->jupyter->d2l==0.17.0) (2.0.1)\n",
            "Requirement already satisfied: kiwisolver>=1.0.1 in /usr/local/lib/python3.7/dist-packages (from matplotlib->d2l==0.17.0) (1.3.2)\n",
            "Requirement already satisfied: pyparsing!=2.0.4,!=2.1.2,!=2.1.6,>=2.0.1 in /usr/local/lib/python3.7/dist-packages (from matplotlib->d2l==0.17.0) (3.0.6)\n",
            "Requirement already satisfied: cycler>=0.10 in /usr/local/lib/python3.7/dist-packages (from matplotlib->d2l==0.17.0) (0.11.0)\n",
            "Requirement already satisfied: mistune<2,>=0.8.1 in /usr/local/lib/python3.7/dist-packages (from nbconvert->jupyter->d2l==0.17.0) (0.8.4)\n",
            "Requirement already satisfied: defusedxml in /usr/local/lib/python3.7/dist-packages (from nbconvert->jupyter->d2l==0.17.0) (0.7.1)\n",
            "Requirement already satisfied: testpath in /usr/local/lib/python3.7/dist-packages (from nbconvert->jupyter->d2l==0.17.0) (0.5.0)\n",
            "Requirement already satisfied: bleach in /usr/local/lib/python3.7/dist-packages (from nbconvert->jupyter->d2l==0.17.0) (4.1.0)\n",
            "Requirement already satisfied: entrypoints>=0.2.2 in /usr/local/lib/python3.7/dist-packages (from nbconvert->jupyter->d2l==0.17.0) (0.3)\n",
            "Requirement already satisfied: pandocfilters>=1.4.1 in /usr/local/lib/python3.7/dist-packages (from nbconvert->jupyter->d2l==0.17.0) (1.5.0)\n",
            "Requirement already satisfied: packaging in /usr/local/lib/python3.7/dist-packages (from bleach->nbconvert->jupyter->d2l==0.17.0) (21.3)\n",
            "Requirement already satisfied: webencodings in /usr/local/lib/python3.7/dist-packages (from bleach->nbconvert->jupyter->d2l==0.17.0) (0.5.1)\n",
            "Requirement already satisfied: pytz>=2017.2 in /usr/local/lib/python3.7/dist-packages (from pandas->d2l==0.17.0) (2018.9)\n",
            "Requirement already satisfied: qtpy in /usr/local/lib/python3.7/dist-packages (from qtconsole->jupyter->d2l==0.17.0) (2.0.0)\n",
            "Requirement already satisfied: idna<3,>=2.5 in /usr/local/lib/python3.7/dist-packages (from requests->d2l==0.17.0) (2.10)\n",
            "Requirement already satisfied: certifi>=2017.4.17 in /usr/local/lib/python3.7/dist-packages (from requests->d2l==0.17.0) (2021.10.8)\n",
            "Requirement already satisfied: urllib3!=1.25.0,!=1.25.1,<1.26,>=1.21.1 in /usr/local/lib/python3.7/dist-packages (from requests->d2l==0.17.0) (1.24.3)\n",
            "Requirement already satisfied: chardet<4,>=3.0.2 in /usr/local/lib/python3.7/dist-packages (from requests->d2l==0.17.0) (3.0.4)\n",
            "Installing collected packages: d2l\n",
            "Successfully installed d2l-0.17.0\n"
          ]
        }
      ]
    },
    {
      "cell_type": "markdown",
      "source": [
        "##Dense Blocks\n",
        "DenseNet uses the modified “batch normalization, activation, and convolution” structure of ResNet. First, we implement this convolution block structure."
      ],
      "metadata": {
        "id": "ZJI2XvpgRgJE"
      }
    },
    {
      "cell_type": "code",
      "execution_count": 2,
      "metadata": {
        "id": "YSC2YbNqRQV6"
      },
      "outputs": [],
      "source": [
        "import torch\n",
        "from torch import nn\n",
        "from d2l import torch as d2l\n",
        "\n",
        "\n",
        "def conv_block(input_channels, num_channels):\n",
        "    return nn.Sequential(\n",
        "        nn.BatchNorm2d(input_channels), nn.ReLU(),\n",
        "        nn.Conv2d(input_channels, num_channels, kernel_size=3, padding=1))"
      ]
    },
    {
      "cell_type": "markdown",
      "source": [
        "A dense block consists of multiple convolution blocks, each using the same number of output channels. In the forward propagation, however, we concatenate the input and output of each convolution block on the channel dimension."
      ],
      "metadata": {
        "id": "F5tb1VPnRqsy"
      }
    },
    {
      "cell_type": "code",
      "source": [
        "class DenseBlock(nn.Module):\n",
        "    def __init__(self, num_convs, input_channels, num_channels):\n",
        "        super(DenseBlock, self).__init__()\n",
        "        layer = []\n",
        "        for i in range(num_convs):\n",
        "            layer.append(conv_block(\n",
        "                num_channels * i + input_channels, num_channels))\n",
        "        self.net = nn.Sequential(*layer)\n",
        "\n",
        "    def forward(self, X):\n",
        "        for blk in self.net:\n",
        "            Y = blk(X)\n",
        "            # Concatenate the input and output of each block on the channel\n",
        "            # dimension\n",
        "            X = torch.cat((X, Y), dim=1)\n",
        "        return X"
      ],
      "metadata": {
        "id": "uAzmQk98RrcA"
      },
      "execution_count": 3,
      "outputs": []
    },
    {
      "cell_type": "markdown",
      "source": [
        "In the following example, we define a DenseBlock instance with 2 convolution blocks of 10 output channels. When using an input with 3 channels, we will get an output with  3+2×10=23  channels. The number of convolution block channels controls the growth in the number of output channels relative to the number of input channels. This is also referred to as the growth rate."
      ],
      "metadata": {
        "id": "GCx_W0aURx_W"
      }
    },
    {
      "cell_type": "code",
      "source": [
        "blk = DenseBlock(2, 3, 10)\n",
        "X = torch.randn(4, 3, 8, 8)\n",
        "Y = blk(X)\n",
        "Y.shape"
      ],
      "metadata": {
        "colab": {
          "base_uri": "https://localhost:8080/"
        },
        "id": "mTH9v3jjRyvU",
        "outputId": "bfc63b45-7825-4e94-a88c-7baa26ecee8d"
      },
      "execution_count": 4,
      "outputs": [
        {
          "output_type": "execute_result",
          "data": {
            "text/plain": [
              "torch.Size([4, 23, 8, 8])"
            ]
          },
          "metadata": {},
          "execution_count": 4
        }
      ]
    },
    {
      "cell_type": "markdown",
      "source": [
        "##Transition Layers\n",
        "Since each dense block will increase the number of channels, adding too many of them will lead to an excessively complex model. A transition layer is used to control the complexity of the model. It reduces the number of channels by using the  1×1  convolutional layer and halves the height and width of the average pooling layer with a stride of 2, further reducing the complexity of the model."
      ],
      "metadata": {
        "id": "RaVFuG38Rz6Q"
      }
    },
    {
      "cell_type": "code",
      "source": [
        "def transition_block(input_channels, num_channels):\n",
        "    return nn.Sequential(\n",
        "        nn.BatchNorm2d(input_channels), nn.ReLU(),\n",
        "        nn.Conv2d(input_channels, num_channels, kernel_size=1),\n",
        "        nn.AvgPool2d(kernel_size=2, stride=2))"
      ],
      "metadata": {
        "id": "Yv6k3BqqR6vu"
      },
      "execution_count": 5,
      "outputs": []
    },
    {
      "cell_type": "markdown",
      "source": [
        "Apply a transition layer with 10 channels to the output of the dense block in the previous example. This reduces the number of output channels to 10, and halves the height and width."
      ],
      "metadata": {
        "id": "bbRUEKLqR7-f"
      }
    },
    {
      "cell_type": "code",
      "source": [
        "blk = transition_block(23, 10)\n",
        "blk(Y).shape"
      ],
      "metadata": {
        "colab": {
          "base_uri": "https://localhost:8080/"
        },
        "id": "txxx5EjKR9RF",
        "outputId": "886f7d19-dd4a-471b-ca78-e3e762548f5a"
      },
      "execution_count": 6,
      "outputs": [
        {
          "output_type": "execute_result",
          "data": {
            "text/plain": [
              "torch.Size([4, 10, 4, 4])"
            ]
          },
          "metadata": {},
          "execution_count": 6
        }
      ]
    },
    {
      "cell_type": "markdown",
      "source": [
        "##DenseNet Model\n",
        "Next, we will construct a DenseNet model. DenseNet first uses the same single convolutional layer and maximum pooling layer as in ResNet."
      ],
      "metadata": {
        "id": "qxm7qnIKR-Rp"
      }
    },
    {
      "cell_type": "code",
      "source": [
        "b1 = nn.Sequential(\n",
        "    nn.Conv2d(1, 64, kernel_size=7, stride=2, padding=3),\n",
        "    nn.BatchNorm2d(64), nn.ReLU(),\n",
        "    nn.MaxPool2d(kernel_size=3, stride=2, padding=1))"
      ],
      "metadata": {
        "id": "rpMacC4MSBx_"
      },
      "execution_count": 7,
      "outputs": []
    },
    {
      "cell_type": "markdown",
      "source": [
        "Here, we use the transition layer to halve the height and width and halve the number of channels."
      ],
      "metadata": {
        "id": "ebIydKn8SGCH"
      }
    },
    {
      "cell_type": "code",
      "source": [
        "# `num_channels`: the current number of channels\n",
        "num_channels, growth_rate = 64, 32\n",
        "num_convs_in_dense_blocks = [4, 4, 4, 4]\n",
        "blks = []\n",
        "for i, num_convs in enumerate(num_convs_in_dense_blocks):\n",
        "    blks.append(DenseBlock(num_convs, num_channels, growth_rate))\n",
        "    # This is the number of output channels in the previous dense block\n",
        "    num_channels += num_convs * growth_rate\n",
        "    # A transition layer that halves the number of channels is added between\n",
        "    # the dense blocks\n",
        "    if i != len(num_convs_in_dense_blocks) - 1:\n",
        "        blks.append(transition_block(num_channels, num_channels // 2))\n",
        "        num_channels = num_channels // 2"
      ],
      "metadata": {
        "id": "vTfABAIbSG2Y"
      },
      "execution_count": 8,
      "outputs": []
    },
    {
      "cell_type": "markdown",
      "source": [
        "Similar to ResNet, a global pooling layer and a fully-connected layer are connected at the end to produce the output."
      ],
      "metadata": {
        "id": "gkj1EM56SIo7"
      }
    },
    {
      "cell_type": "code",
      "source": [
        "net = nn.Sequential(\n",
        "    b1, *blks,\n",
        "    nn.BatchNorm2d(num_channels), \n",
        "    nn.ReLU(),\n",
        "    nn.AdaptiveMaxPool2d((1, 1)),\n",
        "    nn.Flatten(),\n",
        "    nn.Linear(num_channels, 10))"
      ],
      "metadata": {
        "id": "WexYr4uDSJdk"
      },
      "execution_count": 9,
      "outputs": []
    },
    {
      "cell_type": "markdown",
      "source": [
        "##Training\n",
        "Since we are using a deeper network here, in this section, we will reduce the input height and width from 224 to 96 to simplify the computation."
      ],
      "metadata": {
        "id": "bH2a_pQBSKsd"
      }
    },
    {
      "cell_type": "code",
      "source": [
        "lr, num_epochs, batch_size = 0.1, 10, 256\n",
        "train_iter, test_iter = d2l.load_data_fashion_mnist(batch_size, resize=96)\n",
        "d2l.train_ch6(net, train_iter, test_iter, num_epochs, lr, d2l.try_gpu())"
      ],
      "metadata": {
        "colab": {
          "base_uri": "https://localhost:8080/",
          "height": 300,
          "referenced_widgets": [
            "50fe739ac95e4f68874656aeb5749908",
            "bed6432314844deb8d2d13cdc55c6881",
            "a027348f511544dc981efd39d2e8dc19",
            "c7a82a81572448e09e9a2290a86a80a4",
            "a48953a36f604cb4ac361527fa3c06cc",
            "480f4b053b8240ec8add8a4f8d0787aa",
            "6de26686db1e4c3a974d3f6fcf700a25",
            "51bda1ea6925463498c45a2131f79825",
            "3d1841a0b7df4935997272d5baaba7c7",
            "79fb120cb7b64515b1ae95bf4d274613",
            "526b9d4dc461437bac4a153cb0d0455b",
            "de1aa73f86524a07a5b1bf961c9fab15",
            "04ff4e64a1b14cc4ab1b09de82738a88",
            "30d4dd175c6f46ae82402f6f74dd2f0f",
            "f226e67e922a466c8cdf21297e6626f6",
            "ccb4ae218ca944eebd3f51acd5316c42",
            "5fe7a15247194f48b0e48cfbd8f07531",
            "aed190ac5963488db1c6a031b09055b9",
            "e2f0764c71b942b5ad39d098d7140238",
            "4d2b3fbd1e94416d9ffa10761e20435c",
            "e960f9bc5a9f46bdab819c6b9b45f1d7",
            "f7360262ad754435a5c68a0c590bece8",
            "4ef9d6b251ba4af594dfbcb4189e6e88",
            "922319b2c9d54cea94508ede6f38977e",
            "f076a975fa0144ec97ca8fc9afd29aeb",
            "d27f90841c4c474bb921fd5cf5aafdaf",
            "d5e369e9436244edafad77f594438aab",
            "8f5a4586ed324ea798eb11e0078539ec",
            "b40da02c9be74067b8b0fc986555b9b8",
            "9ec6d626021f47ee8e506ffa8eefc4bf",
            "a9f10dad6a8247ef9c0ba5fea8fbcb35",
            "cb9275b109854f92bd13f9e6634b28ef",
            "b4bdccf3c13b4995b6af8a0d3fbc0cad",
            "40d31ca835c04a198027edd6acf3bc4b",
            "3d48b6b19cfc4114b26188ab7bae6d90",
            "32bdb526574f409eb70642fe09cb7757",
            "f731d0e723a843828519001f1785fcb2",
            "edf2f625148244e997d5d621acfad61b",
            "9bef2cca39fe4697a403a652fde82259",
            "c8d17625e37f4741a0753dc9e0d8c707",
            "4a1b94706ae74120959b6f863e4e3689",
            "083780fb7ef04802bd7489b74cce81bb",
            "e113ec5a3de54631bf5045ac901758b9",
            "65db61da5e5d4fb6a554355173bf9b27"
          ]
        },
        "id": "IcTl2_f0SN3p",
        "outputId": "3dbd42b9-92f4-4e41-ff25-800cd803ca3a"
      },
      "execution_count": 10,
      "outputs": [
        {
          "output_type": "stream",
          "name": "stdout",
          "text": [
            "loss 0.150, train acc 0.945, test acc 0.891\n",
            "771.0 examples/sec on cuda:0\n"
          ]
        },
        {
          "output_type": "display_data",
          "data": {
            "text/plain": [
              "<Figure size 252x180 with 1 Axes>"
            ],
            "image/svg+xml": "<?xml version=\"1.0\" encoding=\"utf-8\" standalone=\"no\"?>\n<!DOCTYPE svg PUBLIC \"-//W3C//DTD SVG 1.1//EN\"\n  \"http://www.w3.org/Graphics/SVG/1.1/DTD/svg11.dtd\">\n<!-- Created with matplotlib (https://matplotlib.org/) -->\n<svg height=\"180.65625pt\" version=\"1.1\" viewBox=\"0 0 238.965625 180.65625\" width=\"238.965625pt\" xmlns=\"http://www.w3.org/2000/svg\" xmlns:xlink=\"http://www.w3.org/1999/xlink\">\n <defs>\n  <style type=\"text/css\">\n*{stroke-linecap:butt;stroke-linejoin:round;}\n  </style>\n </defs>\n <g id=\"figure_1\">\n  <g id=\"patch_1\">\n   <path d=\"M 0 180.65625 \nL 238.965625 180.65625 \nL 238.965625 0 \nL 0 0 \nz\n\" style=\"fill:none;\"/>\n  </g>\n  <g id=\"axes_1\">\n   <g id=\"patch_2\">\n    <path d=\"M 30.103125 143.1 \nL 225.403125 143.1 \nL 225.403125 7.2 \nL 30.103125 7.2 \nz\n\" style=\"fill:#ffffff;\"/>\n   </g>\n   <g id=\"matplotlib.axis_1\">\n    <g id=\"xtick_1\">\n     <g id=\"line2d_1\">\n      <path clip-path=\"url(#p98bddd9d51)\" d=\"M 51.803125 143.1 \nL 51.803125 7.2 \n\" style=\"fill:none;stroke:#b0b0b0;stroke-linecap:square;stroke-width:0.8;\"/>\n     </g>\n     <g id=\"line2d_2\">\n      <defs>\n       <path d=\"M 0 0 \nL 0 3.5 \n\" id=\"ma3d39e52c5\" style=\"stroke:#000000;stroke-width:0.8;\"/>\n      </defs>\n      <g>\n       <use style=\"stroke:#000000;stroke-width:0.8;\" x=\"51.803125\" xlink:href=\"#ma3d39e52c5\" y=\"143.1\"/>\n      </g>\n     </g>\n     <g id=\"text_1\">\n      <!-- 2 -->\n      <defs>\n       <path d=\"M 19.1875 8.296875 \nL 53.609375 8.296875 \nL 53.609375 0 \nL 7.328125 0 \nL 7.328125 8.296875 \nQ 12.9375 14.109375 22.625 23.890625 \nQ 32.328125 33.6875 34.8125 36.53125 \nQ 39.546875 41.84375 41.421875 45.53125 \nQ 43.3125 49.21875 43.3125 52.78125 \nQ 43.3125 58.59375 39.234375 62.25 \nQ 35.15625 65.921875 28.609375 65.921875 \nQ 23.96875 65.921875 18.8125 64.3125 \nQ 13.671875 62.703125 7.8125 59.421875 \nL 7.8125 69.390625 \nQ 13.765625 71.78125 18.9375 73 \nQ 24.125 74.21875 28.421875 74.21875 \nQ 39.75 74.21875 46.484375 68.546875 \nQ 53.21875 62.890625 53.21875 53.421875 \nQ 53.21875 48.921875 51.53125 44.890625 \nQ 49.859375 40.875 45.40625 35.40625 \nQ 44.1875 33.984375 37.640625 27.21875 \nQ 31.109375 20.453125 19.1875 8.296875 \nz\n\" id=\"DejaVuSans-50\"/>\n      </defs>\n      <g transform=\"translate(48.621875 157.698438)scale(0.1 -0.1)\">\n       <use xlink:href=\"#DejaVuSans-50\"/>\n      </g>\n     </g>\n    </g>\n    <g id=\"xtick_2\">\n     <g id=\"line2d_3\">\n      <path clip-path=\"url(#p98bddd9d51)\" d=\"M 95.203125 143.1 \nL 95.203125 7.2 \n\" style=\"fill:none;stroke:#b0b0b0;stroke-linecap:square;stroke-width:0.8;\"/>\n     </g>\n     <g id=\"line2d_4\">\n      <g>\n       <use style=\"stroke:#000000;stroke-width:0.8;\" x=\"95.203125\" xlink:href=\"#ma3d39e52c5\" y=\"143.1\"/>\n      </g>\n     </g>\n     <g id=\"text_2\">\n      <!-- 4 -->\n      <defs>\n       <path d=\"M 37.796875 64.3125 \nL 12.890625 25.390625 \nL 37.796875 25.390625 \nz\nM 35.203125 72.90625 \nL 47.609375 72.90625 \nL 47.609375 25.390625 \nL 58.015625 25.390625 \nL 58.015625 17.1875 \nL 47.609375 17.1875 \nL 47.609375 0 \nL 37.796875 0 \nL 37.796875 17.1875 \nL 4.890625 17.1875 \nL 4.890625 26.703125 \nz\n\" id=\"DejaVuSans-52\"/>\n      </defs>\n      <g transform=\"translate(92.021875 157.698438)scale(0.1 -0.1)\">\n       <use xlink:href=\"#DejaVuSans-52\"/>\n      </g>\n     </g>\n    </g>\n    <g id=\"xtick_3\">\n     <g id=\"line2d_5\">\n      <path clip-path=\"url(#p98bddd9d51)\" d=\"M 138.603125 143.1 \nL 138.603125 7.2 \n\" style=\"fill:none;stroke:#b0b0b0;stroke-linecap:square;stroke-width:0.8;\"/>\n     </g>\n     <g id=\"line2d_6\">\n      <g>\n       <use style=\"stroke:#000000;stroke-width:0.8;\" x=\"138.603125\" xlink:href=\"#ma3d39e52c5\" y=\"143.1\"/>\n      </g>\n     </g>\n     <g id=\"text_3\">\n      <!-- 6 -->\n      <defs>\n       <path d=\"M 33.015625 40.375 \nQ 26.375 40.375 22.484375 35.828125 \nQ 18.609375 31.296875 18.609375 23.390625 \nQ 18.609375 15.53125 22.484375 10.953125 \nQ 26.375 6.390625 33.015625 6.390625 \nQ 39.65625 6.390625 43.53125 10.953125 \nQ 47.40625 15.53125 47.40625 23.390625 \nQ 47.40625 31.296875 43.53125 35.828125 \nQ 39.65625 40.375 33.015625 40.375 \nz\nM 52.59375 71.296875 \nL 52.59375 62.3125 \nQ 48.875 64.0625 45.09375 64.984375 \nQ 41.3125 65.921875 37.59375 65.921875 \nQ 27.828125 65.921875 22.671875 59.328125 \nQ 17.53125 52.734375 16.796875 39.40625 \nQ 19.671875 43.65625 24.015625 45.921875 \nQ 28.375 48.1875 33.59375 48.1875 \nQ 44.578125 48.1875 50.953125 41.515625 \nQ 57.328125 34.859375 57.328125 23.390625 \nQ 57.328125 12.15625 50.6875 5.359375 \nQ 44.046875 -1.421875 33.015625 -1.421875 \nQ 20.359375 -1.421875 13.671875 8.265625 \nQ 6.984375 17.96875 6.984375 36.375 \nQ 6.984375 53.65625 15.1875 63.9375 \nQ 23.390625 74.21875 37.203125 74.21875 \nQ 40.921875 74.21875 44.703125 73.484375 \nQ 48.484375 72.75 52.59375 71.296875 \nz\n\" id=\"DejaVuSans-54\"/>\n      </defs>\n      <g transform=\"translate(135.421875 157.698438)scale(0.1 -0.1)\">\n       <use xlink:href=\"#DejaVuSans-54\"/>\n      </g>\n     </g>\n    </g>\n    <g id=\"xtick_4\">\n     <g id=\"line2d_7\">\n      <path clip-path=\"url(#p98bddd9d51)\" d=\"M 182.003125 143.1 \nL 182.003125 7.2 \n\" style=\"fill:none;stroke:#b0b0b0;stroke-linecap:square;stroke-width:0.8;\"/>\n     </g>\n     <g id=\"line2d_8\">\n      <g>\n       <use style=\"stroke:#000000;stroke-width:0.8;\" x=\"182.003125\" xlink:href=\"#ma3d39e52c5\" y=\"143.1\"/>\n      </g>\n     </g>\n     <g id=\"text_4\">\n      <!-- 8 -->\n      <defs>\n       <path d=\"M 31.78125 34.625 \nQ 24.75 34.625 20.71875 30.859375 \nQ 16.703125 27.09375 16.703125 20.515625 \nQ 16.703125 13.921875 20.71875 10.15625 \nQ 24.75 6.390625 31.78125 6.390625 \nQ 38.8125 6.390625 42.859375 10.171875 \nQ 46.921875 13.96875 46.921875 20.515625 \nQ 46.921875 27.09375 42.890625 30.859375 \nQ 38.875 34.625 31.78125 34.625 \nz\nM 21.921875 38.8125 \nQ 15.578125 40.375 12.03125 44.71875 \nQ 8.5 49.078125 8.5 55.328125 \nQ 8.5 64.0625 14.71875 69.140625 \nQ 20.953125 74.21875 31.78125 74.21875 \nQ 42.671875 74.21875 48.875 69.140625 \nQ 55.078125 64.0625 55.078125 55.328125 \nQ 55.078125 49.078125 51.53125 44.71875 \nQ 48 40.375 41.703125 38.8125 \nQ 48.828125 37.15625 52.796875 32.3125 \nQ 56.78125 27.484375 56.78125 20.515625 \nQ 56.78125 9.90625 50.3125 4.234375 \nQ 43.84375 -1.421875 31.78125 -1.421875 \nQ 19.734375 -1.421875 13.25 4.234375 \nQ 6.78125 9.90625 6.78125 20.515625 \nQ 6.78125 27.484375 10.78125 32.3125 \nQ 14.796875 37.15625 21.921875 38.8125 \nz\nM 18.3125 54.390625 \nQ 18.3125 48.734375 21.84375 45.5625 \nQ 25.390625 42.390625 31.78125 42.390625 \nQ 38.140625 42.390625 41.71875 45.5625 \nQ 45.3125 48.734375 45.3125 54.390625 \nQ 45.3125 60.0625 41.71875 63.234375 \nQ 38.140625 66.40625 31.78125 66.40625 \nQ 25.390625 66.40625 21.84375 63.234375 \nQ 18.3125 60.0625 18.3125 54.390625 \nz\n\" id=\"DejaVuSans-56\"/>\n      </defs>\n      <g transform=\"translate(178.821875 157.698438)scale(0.1 -0.1)\">\n       <use xlink:href=\"#DejaVuSans-56\"/>\n      </g>\n     </g>\n    </g>\n    <g id=\"xtick_5\">\n     <g id=\"line2d_9\">\n      <path clip-path=\"url(#p98bddd9d51)\" d=\"M 225.403125 143.1 \nL 225.403125 7.2 \n\" style=\"fill:none;stroke:#b0b0b0;stroke-linecap:square;stroke-width:0.8;\"/>\n     </g>\n     <g id=\"line2d_10\">\n      <g>\n       <use style=\"stroke:#000000;stroke-width:0.8;\" x=\"225.403125\" xlink:href=\"#ma3d39e52c5\" y=\"143.1\"/>\n      </g>\n     </g>\n     <g id=\"text_5\">\n      <!-- 10 -->\n      <defs>\n       <path d=\"M 12.40625 8.296875 \nL 28.515625 8.296875 \nL 28.515625 63.921875 \nL 10.984375 60.40625 \nL 10.984375 69.390625 \nL 28.421875 72.90625 \nL 38.28125 72.90625 \nL 38.28125 8.296875 \nL 54.390625 8.296875 \nL 54.390625 0 \nL 12.40625 0 \nz\n\" id=\"DejaVuSans-49\"/>\n       <path d=\"M 31.78125 66.40625 \nQ 24.171875 66.40625 20.328125 58.90625 \nQ 16.5 51.421875 16.5 36.375 \nQ 16.5 21.390625 20.328125 13.890625 \nQ 24.171875 6.390625 31.78125 6.390625 \nQ 39.453125 6.390625 43.28125 13.890625 \nQ 47.125 21.390625 47.125 36.375 \nQ 47.125 51.421875 43.28125 58.90625 \nQ 39.453125 66.40625 31.78125 66.40625 \nz\nM 31.78125 74.21875 \nQ 44.046875 74.21875 50.515625 64.515625 \nQ 56.984375 54.828125 56.984375 36.375 \nQ 56.984375 17.96875 50.515625 8.265625 \nQ 44.046875 -1.421875 31.78125 -1.421875 \nQ 19.53125 -1.421875 13.0625 8.265625 \nQ 6.59375 17.96875 6.59375 36.375 \nQ 6.59375 54.828125 13.0625 64.515625 \nQ 19.53125 74.21875 31.78125 74.21875 \nz\n\" id=\"DejaVuSans-48\"/>\n      </defs>\n      <g transform=\"translate(219.040625 157.698438)scale(0.1 -0.1)\">\n       <use xlink:href=\"#DejaVuSans-49\"/>\n       <use x=\"63.623047\" xlink:href=\"#DejaVuSans-48\"/>\n      </g>\n     </g>\n    </g>\n    <g id=\"text_6\">\n     <!-- epoch -->\n     <defs>\n      <path d=\"M 56.203125 29.59375 \nL 56.203125 25.203125 \nL 14.890625 25.203125 \nQ 15.484375 15.921875 20.484375 11.0625 \nQ 25.484375 6.203125 34.421875 6.203125 \nQ 39.59375 6.203125 44.453125 7.46875 \nQ 49.3125 8.734375 54.109375 11.28125 \nL 54.109375 2.78125 \nQ 49.265625 0.734375 44.1875 -0.34375 \nQ 39.109375 -1.421875 33.890625 -1.421875 \nQ 20.796875 -1.421875 13.15625 6.1875 \nQ 5.515625 13.8125 5.515625 26.8125 \nQ 5.515625 40.234375 12.765625 48.109375 \nQ 20.015625 56 32.328125 56 \nQ 43.359375 56 49.78125 48.890625 \nQ 56.203125 41.796875 56.203125 29.59375 \nz\nM 47.21875 32.234375 \nQ 47.125 39.59375 43.09375 43.984375 \nQ 39.0625 48.390625 32.421875 48.390625 \nQ 24.90625 48.390625 20.390625 44.140625 \nQ 15.875 39.890625 15.1875 32.171875 \nz\n\" id=\"DejaVuSans-101\"/>\n      <path d=\"M 18.109375 8.203125 \nL 18.109375 -20.796875 \nL 9.078125 -20.796875 \nL 9.078125 54.6875 \nL 18.109375 54.6875 \nL 18.109375 46.390625 \nQ 20.953125 51.265625 25.265625 53.625 \nQ 29.59375 56 35.59375 56 \nQ 45.5625 56 51.78125 48.09375 \nQ 58.015625 40.1875 58.015625 27.296875 \nQ 58.015625 14.40625 51.78125 6.484375 \nQ 45.5625 -1.421875 35.59375 -1.421875 \nQ 29.59375 -1.421875 25.265625 0.953125 \nQ 20.953125 3.328125 18.109375 8.203125 \nz\nM 48.6875 27.296875 \nQ 48.6875 37.203125 44.609375 42.84375 \nQ 40.53125 48.484375 33.40625 48.484375 \nQ 26.265625 48.484375 22.1875 42.84375 \nQ 18.109375 37.203125 18.109375 27.296875 \nQ 18.109375 17.390625 22.1875 11.75 \nQ 26.265625 6.109375 33.40625 6.109375 \nQ 40.53125 6.109375 44.609375 11.75 \nQ 48.6875 17.390625 48.6875 27.296875 \nz\n\" id=\"DejaVuSans-112\"/>\n      <path d=\"M 30.609375 48.390625 \nQ 23.390625 48.390625 19.1875 42.75 \nQ 14.984375 37.109375 14.984375 27.296875 \nQ 14.984375 17.484375 19.15625 11.84375 \nQ 23.34375 6.203125 30.609375 6.203125 \nQ 37.796875 6.203125 41.984375 11.859375 \nQ 46.1875 17.53125 46.1875 27.296875 \nQ 46.1875 37.015625 41.984375 42.703125 \nQ 37.796875 48.390625 30.609375 48.390625 \nz\nM 30.609375 56 \nQ 42.328125 56 49.015625 48.375 \nQ 55.71875 40.765625 55.71875 27.296875 \nQ 55.71875 13.875 49.015625 6.21875 \nQ 42.328125 -1.421875 30.609375 -1.421875 \nQ 18.84375 -1.421875 12.171875 6.21875 \nQ 5.515625 13.875 5.515625 27.296875 \nQ 5.515625 40.765625 12.171875 48.375 \nQ 18.84375 56 30.609375 56 \nz\n\" id=\"DejaVuSans-111\"/>\n      <path d=\"M 48.78125 52.59375 \nL 48.78125 44.1875 \nQ 44.96875 46.296875 41.140625 47.34375 \nQ 37.3125 48.390625 33.40625 48.390625 \nQ 24.65625 48.390625 19.8125 42.84375 \nQ 14.984375 37.3125 14.984375 27.296875 \nQ 14.984375 17.28125 19.8125 11.734375 \nQ 24.65625 6.203125 33.40625 6.203125 \nQ 37.3125 6.203125 41.140625 7.25 \nQ 44.96875 8.296875 48.78125 10.40625 \nL 48.78125 2.09375 \nQ 45.015625 0.34375 40.984375 -0.53125 \nQ 36.96875 -1.421875 32.421875 -1.421875 \nQ 20.0625 -1.421875 12.78125 6.34375 \nQ 5.515625 14.109375 5.515625 27.296875 \nQ 5.515625 40.671875 12.859375 48.328125 \nQ 20.21875 56 33.015625 56 \nQ 37.15625 56 41.109375 55.140625 \nQ 45.0625 54.296875 48.78125 52.59375 \nz\n\" id=\"DejaVuSans-99\"/>\n      <path d=\"M 54.890625 33.015625 \nL 54.890625 0 \nL 45.90625 0 \nL 45.90625 32.71875 \nQ 45.90625 40.484375 42.875 44.328125 \nQ 39.84375 48.1875 33.796875 48.1875 \nQ 26.515625 48.1875 22.3125 43.546875 \nQ 18.109375 38.921875 18.109375 30.90625 \nL 18.109375 0 \nL 9.078125 0 \nL 9.078125 75.984375 \nL 18.109375 75.984375 \nL 18.109375 46.1875 \nQ 21.34375 51.125 25.703125 53.5625 \nQ 30.078125 56 35.796875 56 \nQ 45.21875 56 50.046875 50.171875 \nQ 54.890625 44.34375 54.890625 33.015625 \nz\n\" id=\"DejaVuSans-104\"/>\n     </defs>\n     <g transform=\"translate(112.525 171.376563)scale(0.1 -0.1)\">\n      <use xlink:href=\"#DejaVuSans-101\"/>\n      <use x=\"61.523438\" xlink:href=\"#DejaVuSans-112\"/>\n      <use x=\"125\" xlink:href=\"#DejaVuSans-111\"/>\n      <use x=\"186.181641\" xlink:href=\"#DejaVuSans-99\"/>\n      <use x=\"241.162109\" xlink:href=\"#DejaVuSans-104\"/>\n     </g>\n    </g>\n   </g>\n   <g id=\"matplotlib.axis_2\">\n    <g id=\"ytick_1\">\n     <g id=\"line2d_11\">\n      <path clip-path=\"url(#p98bddd9d51)\" d=\"M 30.103125 105.099225 \nL 225.403125 105.099225 \n\" style=\"fill:none;stroke:#b0b0b0;stroke-linecap:square;stroke-width:0.8;\"/>\n     </g>\n     <g id=\"line2d_12\">\n      <defs>\n       <path d=\"M 0 0 \nL -3.5 0 \n\" id=\"m877c4fc5cd\" style=\"stroke:#000000;stroke-width:0.8;\"/>\n      </defs>\n      <g>\n       <use style=\"stroke:#000000;stroke-width:0.8;\" x=\"30.103125\" xlink:href=\"#m877c4fc5cd\" y=\"105.099225\"/>\n      </g>\n     </g>\n     <g id=\"text_7\">\n      <!-- 0.5 -->\n      <defs>\n       <path d=\"M 10.6875 12.40625 \nL 21 12.40625 \nL 21 0 \nL 10.6875 0 \nz\n\" id=\"DejaVuSans-46\"/>\n       <path d=\"M 10.796875 72.90625 \nL 49.515625 72.90625 \nL 49.515625 64.59375 \nL 19.828125 64.59375 \nL 19.828125 46.734375 \nQ 21.96875 47.46875 24.109375 47.828125 \nQ 26.265625 48.1875 28.421875 48.1875 \nQ 40.625 48.1875 47.75 41.5 \nQ 54.890625 34.8125 54.890625 23.390625 \nQ 54.890625 11.625 47.5625 5.09375 \nQ 40.234375 -1.421875 26.90625 -1.421875 \nQ 22.3125 -1.421875 17.546875 -0.640625 \nQ 12.796875 0.140625 7.71875 1.703125 \nL 7.71875 11.625 \nQ 12.109375 9.234375 16.796875 8.0625 \nQ 21.484375 6.890625 26.703125 6.890625 \nQ 35.15625 6.890625 40.078125 11.328125 \nQ 45.015625 15.765625 45.015625 23.390625 \nQ 45.015625 31 40.078125 35.4375 \nQ 35.15625 39.890625 26.703125 39.890625 \nQ 22.75 39.890625 18.8125 39.015625 \nQ 14.890625 38.140625 10.796875 36.28125 \nz\n\" id=\"DejaVuSans-53\"/>\n      </defs>\n      <g transform=\"translate(7.2 108.898444)scale(0.1 -0.1)\">\n       <use xlink:href=\"#DejaVuSans-48\"/>\n       <use x=\"63.623047\" xlink:href=\"#DejaVuSans-46\"/>\n       <use x=\"95.410156\" xlink:href=\"#DejaVuSans-53\"/>\n      </g>\n     </g>\n    </g>\n    <g id=\"ytick_2\">\n     <g id=\"line2d_13\">\n      <path clip-path=\"url(#p98bddd9d51)\" d=\"M 30.103125 60.404779 \nL 225.403125 60.404779 \n\" style=\"fill:none;stroke:#b0b0b0;stroke-linecap:square;stroke-width:0.8;\"/>\n     </g>\n     <g id=\"line2d_14\">\n      <g>\n       <use style=\"stroke:#000000;stroke-width:0.8;\" x=\"30.103125\" xlink:href=\"#m877c4fc5cd\" y=\"60.404779\"/>\n      </g>\n     </g>\n     <g id=\"text_8\">\n      <!-- 1.0 -->\n      <g transform=\"translate(7.2 64.203998)scale(0.1 -0.1)\">\n       <use xlink:href=\"#DejaVuSans-49\"/>\n       <use x=\"63.623047\" xlink:href=\"#DejaVuSans-46\"/>\n       <use x=\"95.410156\" xlink:href=\"#DejaVuSans-48\"/>\n      </g>\n     </g>\n    </g>\n    <g id=\"ytick_3\">\n     <g id=\"line2d_15\">\n      <path clip-path=\"url(#p98bddd9d51)\" d=\"M 30.103125 15.710333 \nL 225.403125 15.710333 \n\" style=\"fill:none;stroke:#b0b0b0;stroke-linecap:square;stroke-width:0.8;\"/>\n     </g>\n     <g id=\"line2d_16\">\n      <g>\n       <use style=\"stroke:#000000;stroke-width:0.8;\" x=\"30.103125\" xlink:href=\"#m877c4fc5cd\" y=\"15.710333\"/>\n      </g>\n     </g>\n     <g id=\"text_9\">\n      <!-- 1.5 -->\n      <g transform=\"translate(7.2 19.509552)scale(0.1 -0.1)\">\n       <use xlink:href=\"#DejaVuSans-49\"/>\n       <use x=\"63.623047\" xlink:href=\"#DejaVuSans-46\"/>\n       <use x=\"95.410156\" xlink:href=\"#DejaVuSans-53\"/>\n      </g>\n     </g>\n    </g>\n   </g>\n   <g id=\"line2d_17\">\n    <path clip-path=\"url(#p98bddd9d51)\" d=\"M 12.743125 13.377273 \nL 17.083125 53.268417 \nL 21.423125 70.226441 \nL 25.763125 79.785173 \nL 30.103125 86.582189 \nL 34.443125 116.848807 \nL 38.783125 117.0765 \nL 43.123125 117.369988 \nL 47.463125 117.945835 \nL 51.803125 118.67546 \nL 56.143125 121.156285 \nL 60.483125 122.852166 \nL 64.823125 122.857699 \nL 69.163125 123.197446 \nL 73.503125 123.547262 \nL 77.843125 126.659949 \nL 82.183125 126.61496 \nL 86.523125 127.022044 \nL 90.863125 127.030512 \nL 95.203125 126.824059 \nL 99.543125 129.612398 \nL 103.883125 130.035994 \nL 108.223125 129.528198 \nL 112.563125 129.168725 \nL 116.903125 129.282599 \nL 121.243125 131.215712 \nL 125.583125 131.377534 \nL 129.923125 130.863626 \nL 134.263125 131.019637 \nL 138.603125 130.999217 \nL 142.943125 132.385578 \nL 147.283125 132.906172 \nL 151.623125 132.566085 \nL 155.963125 132.584443 \nL 160.303125 132.459715 \nL 164.643125 134.597914 \nL 168.983125 134.395902 \nL 173.323125 134.168978 \nL 177.663125 133.96304 \nL 182.003125 133.945524 \nL 186.343125 135.929137 \nL 190.683125 135.300942 \nL 195.023125 135.056942 \nL 199.363125 135.161141 \nL 203.703125 135.011932 \nL 208.043125 136.667212 \nL 212.383125 136.922727 \nL 216.723125 136.640581 \nL 221.063125 136.449986 \nL 225.403125 136.34762 \n\" style=\"fill:none;stroke:#1f77b4;stroke-linecap:square;stroke-width:1.5;\"/>\n   </g>\n   <g id=\"line2d_18\">\n    <path clip-path=\"url(#p98bddd9d51)\" d=\"M 12.743125 96.912178 \nL 17.083125 89.003727 \nL 21.423125 85.017928 \nL 25.763125 82.672138 \nL 30.103125 80.853978 \nL 34.443125 72.551624 \nL 38.783125 72.380751 \nL 43.123125 72.204925 \nL 47.463125 72.005573 \nL 51.803125 71.782495 \nL 56.143125 70.917186 \nL 60.483125 70.367421 \nL 64.823125 70.260935 \nL 69.163125 70.124113 \nL 73.503125 70.034943 \nL 77.843125 69.119305 \nL 82.183125 69.119305 \nL 86.523125 68.973196 \nL 90.863125 68.918715 \nL 95.203125 68.993562 \nL 99.543125 67.841471 \nL 103.883125 67.581447 \nL 108.223125 67.732509 \nL 112.563125 67.869331 \nL 116.903125 67.856833 \nL 121.243125 67.105974 \nL 125.583125 67.276848 \nL 129.923125 67.45515 \nL 134.263125 67.356712 \nL 138.603125 67.374133 \nL 142.943125 67.039111 \nL 147.283125 66.753084 \nL 151.623125 66.843474 \nL 155.963125 66.827377 \nL 160.303125 66.8378 \nL 164.643125 65.895005 \nL 168.983125 66.054734 \nL 173.323125 66.137694 \nL 177.663125 66.233036 \nL 182.003125 66.219527 \nL 186.343125 65.360098 \nL 190.683125 65.731561 \nL 195.023125 65.823188 \nL 199.363125 65.79471 \nL 203.703125 65.891767 \nL 208.043125 65.122361 \nL 212.383125 65.100073 \nL 216.723125 65.216465 \nL 221.063125 65.28952 \nL 225.403125 65.315209 \n\" style=\"fill:none;stroke:#bf00bf;stroke-dasharray:5.55,2.4;stroke-dashoffset:0;stroke-width:1.5;\"/>\n   </g>\n   <g id=\"line2d_19\">\n    <path clip-path=\"url(#p98bddd9d51)\" d=\"M 30.103125 78.121658 \nL 51.803125 79.730658 \nL 73.503125 76.128285 \nL 95.203125 70.907974 \nL 116.903125 75.359541 \nL 138.603125 72.078969 \nL 160.303125 70.389519 \nL 182.003125 68.53023 \nL 203.703125 68.342513 \nL 225.403125 70.112413 \n\" style=\"fill:none;stroke:#008000;stroke-dasharray:9.6,2.4,1.5,2.4;stroke-dashoffset:0;stroke-width:1.5;\"/>\n   </g>\n   <g id=\"patch_3\">\n    <path d=\"M 30.103125 143.1 \nL 30.103125 7.2 \n\" style=\"fill:none;stroke:#000000;stroke-linecap:square;stroke-linejoin:miter;stroke-width:0.8;\"/>\n   </g>\n   <g id=\"patch_4\">\n    <path d=\"M 225.403125 143.1 \nL 225.403125 7.2 \n\" style=\"fill:none;stroke:#000000;stroke-linecap:square;stroke-linejoin:miter;stroke-width:0.8;\"/>\n   </g>\n   <g id=\"patch_5\">\n    <path d=\"M 30.103125 143.1 \nL 225.403125 143.1 \n\" style=\"fill:none;stroke:#000000;stroke-linecap:square;stroke-linejoin:miter;stroke-width:0.8;\"/>\n   </g>\n   <g id=\"patch_6\">\n    <path d=\"M 30.103125 7.2 \nL 225.403125 7.2 \n\" style=\"fill:none;stroke:#000000;stroke-linecap:square;stroke-linejoin:miter;stroke-width:0.8;\"/>\n   </g>\n   <g id=\"legend_1\">\n    <g id=\"patch_7\">\n     <path d=\"M 140.634375 59.234375 \nL 218.403125 59.234375 \nQ 220.403125 59.234375 220.403125 57.234375 \nL 220.403125 14.2 \nQ 220.403125 12.2 218.403125 12.2 \nL 140.634375 12.2 \nQ 138.634375 12.2 138.634375 14.2 \nL 138.634375 57.234375 \nQ 138.634375 59.234375 140.634375 59.234375 \nz\n\" style=\"fill:#ffffff;opacity:0.8;stroke:#cccccc;stroke-linejoin:miter;\"/>\n    </g>\n    <g id=\"line2d_20\">\n     <path d=\"M 142.634375 20.298438 \nL 162.634375 20.298438 \n\" style=\"fill:none;stroke:#1f77b4;stroke-linecap:square;stroke-width:1.5;\"/>\n    </g>\n    <g id=\"line2d_21\"/>\n    <g id=\"text_10\">\n     <!-- train loss -->\n     <defs>\n      <path d=\"M 18.3125 70.21875 \nL 18.3125 54.6875 \nL 36.8125 54.6875 \nL 36.8125 47.703125 \nL 18.3125 47.703125 \nL 18.3125 18.015625 \nQ 18.3125 11.328125 20.140625 9.421875 \nQ 21.96875 7.515625 27.59375 7.515625 \nL 36.8125 7.515625 \nL 36.8125 0 \nL 27.59375 0 \nQ 17.1875 0 13.234375 3.875 \nQ 9.28125 7.765625 9.28125 18.015625 \nL 9.28125 47.703125 \nL 2.6875 47.703125 \nL 2.6875 54.6875 \nL 9.28125 54.6875 \nL 9.28125 70.21875 \nz\n\" id=\"DejaVuSans-116\"/>\n      <path d=\"M 41.109375 46.296875 \nQ 39.59375 47.171875 37.8125 47.578125 \nQ 36.03125 48 33.890625 48 \nQ 26.265625 48 22.1875 43.046875 \nQ 18.109375 38.09375 18.109375 28.8125 \nL 18.109375 0 \nL 9.078125 0 \nL 9.078125 54.6875 \nL 18.109375 54.6875 \nL 18.109375 46.1875 \nQ 20.953125 51.171875 25.484375 53.578125 \nQ 30.03125 56 36.53125 56 \nQ 37.453125 56 38.578125 55.875 \nQ 39.703125 55.765625 41.0625 55.515625 \nz\n\" id=\"DejaVuSans-114\"/>\n      <path d=\"M 34.28125 27.484375 \nQ 23.390625 27.484375 19.1875 25 \nQ 14.984375 22.515625 14.984375 16.5 \nQ 14.984375 11.71875 18.140625 8.90625 \nQ 21.296875 6.109375 26.703125 6.109375 \nQ 34.1875 6.109375 38.703125 11.40625 \nQ 43.21875 16.703125 43.21875 25.484375 \nL 43.21875 27.484375 \nz\nM 52.203125 31.203125 \nL 52.203125 0 \nL 43.21875 0 \nL 43.21875 8.296875 \nQ 40.140625 3.328125 35.546875 0.953125 \nQ 30.953125 -1.421875 24.3125 -1.421875 \nQ 15.921875 -1.421875 10.953125 3.296875 \nQ 6 8.015625 6 15.921875 \nQ 6 25.140625 12.171875 29.828125 \nQ 18.359375 34.515625 30.609375 34.515625 \nL 43.21875 34.515625 \nL 43.21875 35.40625 \nQ 43.21875 41.609375 39.140625 45 \nQ 35.0625 48.390625 27.6875 48.390625 \nQ 23 48.390625 18.546875 47.265625 \nQ 14.109375 46.140625 10.015625 43.890625 \nL 10.015625 52.203125 \nQ 14.9375 54.109375 19.578125 55.046875 \nQ 24.21875 56 28.609375 56 \nQ 40.484375 56 46.34375 49.84375 \nQ 52.203125 43.703125 52.203125 31.203125 \nz\n\" id=\"DejaVuSans-97\"/>\n      <path d=\"M 9.421875 54.6875 \nL 18.40625 54.6875 \nL 18.40625 0 \nL 9.421875 0 \nz\nM 9.421875 75.984375 \nL 18.40625 75.984375 \nL 18.40625 64.59375 \nL 9.421875 64.59375 \nz\n\" id=\"DejaVuSans-105\"/>\n      <path d=\"M 54.890625 33.015625 \nL 54.890625 0 \nL 45.90625 0 \nL 45.90625 32.71875 \nQ 45.90625 40.484375 42.875 44.328125 \nQ 39.84375 48.1875 33.796875 48.1875 \nQ 26.515625 48.1875 22.3125 43.546875 \nQ 18.109375 38.921875 18.109375 30.90625 \nL 18.109375 0 \nL 9.078125 0 \nL 9.078125 54.6875 \nL 18.109375 54.6875 \nL 18.109375 46.1875 \nQ 21.34375 51.125 25.703125 53.5625 \nQ 30.078125 56 35.796875 56 \nQ 45.21875 56 50.046875 50.171875 \nQ 54.890625 44.34375 54.890625 33.015625 \nz\n\" id=\"DejaVuSans-110\"/>\n      <path id=\"DejaVuSans-32\"/>\n      <path d=\"M 9.421875 75.984375 \nL 18.40625 75.984375 \nL 18.40625 0 \nL 9.421875 0 \nz\n\" id=\"DejaVuSans-108\"/>\n      <path d=\"M 44.28125 53.078125 \nL 44.28125 44.578125 \nQ 40.484375 46.53125 36.375 47.5 \nQ 32.28125 48.484375 27.875 48.484375 \nQ 21.1875 48.484375 17.84375 46.4375 \nQ 14.5 44.390625 14.5 40.28125 \nQ 14.5 37.15625 16.890625 35.375 \nQ 19.28125 33.59375 26.515625 31.984375 \nL 29.59375 31.296875 \nQ 39.15625 29.25 43.1875 25.515625 \nQ 47.21875 21.78125 47.21875 15.09375 \nQ 47.21875 7.46875 41.1875 3.015625 \nQ 35.15625 -1.421875 24.609375 -1.421875 \nQ 20.21875 -1.421875 15.453125 -0.5625 \nQ 10.6875 0.296875 5.421875 2 \nL 5.421875 11.28125 \nQ 10.40625 8.6875 15.234375 7.390625 \nQ 20.0625 6.109375 24.8125 6.109375 \nQ 31.15625 6.109375 34.5625 8.28125 \nQ 37.984375 10.453125 37.984375 14.40625 \nQ 37.984375 18.0625 35.515625 20.015625 \nQ 33.0625 21.96875 24.703125 23.78125 \nL 21.578125 24.515625 \nQ 13.234375 26.265625 9.515625 29.90625 \nQ 5.8125 33.546875 5.8125 39.890625 \nQ 5.8125 47.609375 11.28125 51.796875 \nQ 16.75 56 26.8125 56 \nQ 31.78125 56 36.171875 55.265625 \nQ 40.578125 54.546875 44.28125 53.078125 \nz\n\" id=\"DejaVuSans-115\"/>\n     </defs>\n     <g transform=\"translate(170.634375 23.798438)scale(0.1 -0.1)\">\n      <use xlink:href=\"#DejaVuSans-116\"/>\n      <use x=\"39.208984\" xlink:href=\"#DejaVuSans-114\"/>\n      <use x=\"80.322266\" xlink:href=\"#DejaVuSans-97\"/>\n      <use x=\"141.601562\" xlink:href=\"#DejaVuSans-105\"/>\n      <use x=\"169.384766\" xlink:href=\"#DejaVuSans-110\"/>\n      <use x=\"232.763672\" xlink:href=\"#DejaVuSans-32\"/>\n      <use x=\"264.550781\" xlink:href=\"#DejaVuSans-108\"/>\n      <use x=\"292.333984\" xlink:href=\"#DejaVuSans-111\"/>\n      <use x=\"353.515625\" xlink:href=\"#DejaVuSans-115\"/>\n      <use x=\"405.615234\" xlink:href=\"#DejaVuSans-115\"/>\n     </g>\n    </g>\n    <g id=\"line2d_22\">\n     <path d=\"M 142.634375 34.976562 \nL 162.634375 34.976562 \n\" style=\"fill:none;stroke:#bf00bf;stroke-dasharray:5.55,2.4;stroke-dashoffset:0;stroke-width:1.5;\"/>\n    </g>\n    <g id=\"line2d_23\"/>\n    <g id=\"text_11\">\n     <!-- train acc -->\n     <g transform=\"translate(170.634375 38.476562)scale(0.1 -0.1)\">\n      <use xlink:href=\"#DejaVuSans-116\"/>\n      <use x=\"39.208984\" xlink:href=\"#DejaVuSans-114\"/>\n      <use x=\"80.322266\" xlink:href=\"#DejaVuSans-97\"/>\n      <use x=\"141.601562\" xlink:href=\"#DejaVuSans-105\"/>\n      <use x=\"169.384766\" xlink:href=\"#DejaVuSans-110\"/>\n      <use x=\"232.763672\" xlink:href=\"#DejaVuSans-32\"/>\n      <use x=\"264.550781\" xlink:href=\"#DejaVuSans-97\"/>\n      <use x=\"325.830078\" xlink:href=\"#DejaVuSans-99\"/>\n      <use x=\"380.810547\" xlink:href=\"#DejaVuSans-99\"/>\n     </g>\n    </g>\n    <g id=\"line2d_24\">\n     <path d=\"M 142.634375 49.654688 \nL 162.634375 49.654688 \n\" style=\"fill:none;stroke:#008000;stroke-dasharray:9.6,2.4,1.5,2.4;stroke-dashoffset:0;stroke-width:1.5;\"/>\n    </g>\n    <g id=\"line2d_25\"/>\n    <g id=\"text_12\">\n     <!-- test acc -->\n     <g transform=\"translate(170.634375 53.154688)scale(0.1 -0.1)\">\n      <use xlink:href=\"#DejaVuSans-116\"/>\n      <use x=\"39.208984\" xlink:href=\"#DejaVuSans-101\"/>\n      <use x=\"100.732422\" xlink:href=\"#DejaVuSans-115\"/>\n      <use x=\"152.832031\" xlink:href=\"#DejaVuSans-116\"/>\n      <use x=\"192.041016\" xlink:href=\"#DejaVuSans-32\"/>\n      <use x=\"223.828125\" xlink:href=\"#DejaVuSans-97\"/>\n      <use x=\"285.107422\" xlink:href=\"#DejaVuSans-99\"/>\n      <use x=\"340.087891\" xlink:href=\"#DejaVuSans-99\"/>\n     </g>\n    </g>\n   </g>\n  </g>\n </g>\n <defs>\n  <clipPath id=\"p98bddd9d51\">\n   <rect height=\"135.9\" width=\"195.3\" x=\"30.103125\" y=\"7.2\"/>\n  </clipPath>\n </defs>\n</svg>\n"
          },
          "metadata": {
            "needs_background": "light"
          }
        }
      ]
    },
    {
      "cell_type": "markdown",
      "source": [
        "Output of cell [10]:\n",
        "\n",
        "![image.png](data:image/png;base64,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)"
      ],
      "metadata": {
        "id": "Q49BJz0z0esV"
      }
    },
    {
      "cell_type": "markdown",
      "source": [
        "##Summary\n",
        "* In terms of cross-layer connections, unlike ResNet, where inputs and outputs are added together, DenseNet concatenates inputs and outputs on the channel dimension.\n",
        "\n",
        "* The main components that compose DenseNet are dense blocks and transition layers.\n",
        "\n",
        "* We need to keep the dimensionality under control when composing the network by adding transition layers that shrink the number of channels again."
      ],
      "metadata": {
        "id": "Jh_LOZdzSPbv"
      }
    }
  ]
}
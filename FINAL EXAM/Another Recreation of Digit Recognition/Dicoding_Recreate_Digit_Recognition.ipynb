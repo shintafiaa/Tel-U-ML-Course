{
  "nbformat": 4,
  "nbformat_minor": 0,
  "metadata": {
    "colab": {
      "name": "Dicoding-Recreate Digit Recognition.ipynb",
      "provenance": [],
      "authorship_tag": "ABX9TyOi1G/Kmu3/Cek96IMQGNYA",
      "include_colab_link": true
    },
    "kernelspec": {
      "name": "python3",
      "display_name": "Python 3"
    },
    "language_info": {
      "name": "python"
    }
  },
  "cells": [
    {
      "cell_type": "markdown",
      "metadata": {
        "id": "view-in-github",
        "colab_type": "text"
      },
      "source": [
        "<a href=\"https://colab.research.google.com/github/shintafiaa/Tel-U-ML-Course/blob/main/FINAL%20EXAM/Another%20Recreation%20of%20Digit%20Recognition/Dicoding_Recreate_Digit_Recognition.ipynb\" target=\"_parent\"><img src=\"https://colab.research.google.com/assets/colab-badge.svg\" alt=\"Open In Colab\"/></a>"
      ]
    },
    {
      "cell_type": "markdown",
      "source": [
        "Dataset dari Tensorflow: [Tensorflow Datasets](https://www.tensorflow.org/api_docs/python/tf/keras/datasets)\n",
        "\n",
        "Sumber recreation: [Dicoding](dicoding.com)"
      ],
      "metadata": {
        "id": "wiKDGlCqKpgL"
      }
    },
    {
      "cell_type": "markdown",
      "source": [
        "1. Impor Library tensorflow"
      ],
      "metadata": {
        "id": "L3SAYnr1LFMb"
      }
    },
    {
      "cell_type": "code",
      "execution_count": 9,
      "metadata": {
        "colab": {
          "base_uri": "https://localhost:8080/"
        },
        "id": "C04vujRKKkCS",
        "outputId": "ebe99332-8976-48e7-97cc-f16478661f52"
      },
      "outputs": [
        {
          "output_type": "stream",
          "name": "stdout",
          "text": [
            "2.7.0\n"
          ]
        }
      ],
      "source": [
        "import tensorflow as tf\n",
        "print(tf.__version__)"
      ]
    },
    {
      "cell_type": "markdown",
      "source": [
        "2. Buat objek untuk menampung dataset. Masukkan fungsi tf.keras.datasets.<nama_dataset> pada objek tersebut"
      ],
      "metadata": {
        "id": "T1MJVsKaLLZT"
      }
    },
    {
      "cell_type": "code",
      "source": [
        "mnist = tf.keras.datasets.mnist"
      ],
      "metadata": {
        "id": "x_ZxOdoFLUh7"
      },
      "execution_count": 10,
      "outputs": []
    },
    {
      "cell_type": "markdown",
      "source": [
        "3. Fungsi load_data() dari objek dataset mengembalikan dataset yang telah dibagi menjadi atribut latih, label latih, atribut uji, dan label uji. "
      ],
      "metadata": {
        "id": "fpGWeeD6MjdD"
      }
    },
    {
      "cell_type": "code",
      "source": [
        "(gambar_latih, label_latih), (gambar_testing, label_testing) = mnist.load_data()"
      ],
      "metadata": {
        "id": "HDekJgyXMknu"
      },
      "execution_count": 11,
      "outputs": []
    },
    {
      "cell_type": "markdown",
      "source": [
        "4. Menampilkan label dan salah satu gambar dari data latih menggunakan library matplotlib"
      ],
      "metadata": {
        "id": "wNuxCcZXMp_q"
      }
    },
    {
      "cell_type": "code",
      "source": [
        "import numpy as np\n",
        "np.set_printoptions(linewidth=200)\n",
        "import matplotlib.pyplot as plt\n",
        "plt.imshow(gambar_latih[5])\n",
        "print(label_latih[5])"
      ],
      "metadata": {
        "colab": {
          "base_uri": "https://localhost:8080/",
          "height": 282
        },
        "id": "qhS0Er_AMtJt",
        "outputId": "30bdc956-2df7-403f-a732-17189aead2b3"
      },
      "execution_count": 12,
      "outputs": [
        {
          "output_type": "stream",
          "name": "stdout",
          "text": [
            "2\n"
          ]
        },
        {
          "output_type": "display_data",
          "data": {
            "image/png": "[encoded data removed]",
            "text/plain": [
              "<Figure size 432x288 with 1 Axes>"
            ]
          },
          "metadata": {
            "needs_background": "light"
          }
        }
      ]
    },
    {
      "cell_type": "markdown",
      "source": [
        "5. Namun, dataset di atas masih belum dinormalisasi. Sehingga dataset harus dinormalisasi secara manual. Kode di bawah berfungsi untuk membagi setiap piksel pada gambar sebesar 255. Karena, nilai sebuah piksel berkisar dari 0 sampai 255."
      ],
      "metadata": {
        "id": "cwcflfjkM6ka"
      }
    },
    {
      "cell_type": "code",
      "source": [
        "gambar_latih  = gambar_latih / 255.0\n",
        "gambar_testing = gambar_testing / 255.0"
      ],
      "metadata": {
        "id": "-YfZZ0d6NGv3"
      },
      "execution_count": 13,
      "outputs": []
    },
    {
      "cell_type": "markdown",
      "source": [
        "6. Menerapkan 3 layer sebagai arsitektur model. Untuk layer pertama, digunakan layer khusus yaitu Flatten yang berfungsi untuk mengubah input yang berupa matriks 2 dimensi menjadi array 1 dimensi. "
      ],
      "metadata": {
        "id": "3uL7ABHHNNAX"
      }
    },
    {
      "cell_type": "code",
      "source": [
        "model = tf.keras.models.Sequential([tf.keras.layers.Flatten(input_shape=(28,28)), \n",
        "                                    tf.keras.layers.Dense(128, activation=tf.nn.relu), \n",
        "                                    tf.keras.layers.Dense(10, activation=tf.nn.softmax)])"
      ],
      "metadata": {
        "id": "vxox_EPfNeGv"
      },
      "execution_count": 14,
      "outputs": []
    },
    {
      "cell_type": "markdown",
      "source": [
        "7. Menetapkan optimizer dan loss untuk model, dan mulai pelatihan model. "
      ],
      "metadata": {
        "id": "lVxDkpAoNior"
      }
    },
    {
      "cell_type": "code",
      "source": [
        "model.compile(optimizer = tf.optimizers.Adam(),\n",
        "              loss = 'sparse_categorical_crossentropy',\n",
        "              metrics=['accuracy'])\n",
        "model.fit(gambar_latih, label_latih, epochs=5)"
      ],
      "metadata": {
        "colab": {
          "base_uri": "https://localhost:8080/"
        },
        "id": "ONSC-ClHNo08",
        "outputId": "ee7e6a1c-2ae8-4268-caa8-09900d8943b8"
      },
      "execution_count": 15,
      "outputs": [
        {
          "output_type": "stream",
          "name": "stdout",
          "text": [
            "Epoch 1/5\n",
            "1875/1875 [==============================] - 5s 3ms/step - loss: 0.2595 - accuracy: 0.9262\n",
            "Epoch 2/5\n",
            "1875/1875 [==============================] - 5s 2ms/step - loss: 0.1143 - accuracy: 0.9665\n",
            "Epoch 3/5\n",
            "1875/1875 [==============================] - 5s 3ms/step - loss: 0.0790 - accuracy: 0.9755\n",
            "Epoch 4/5\n",
            "1875/1875 [==============================] - 5s 3ms/step - loss: 0.0586 - accuracy: 0.9826\n",
            "Epoch 5/5\n",
            "1875/1875 [==============================] - 5s 3ms/step - loss: 0.0466 - accuracy: 0.9855\n"
          ]
        },
        {
          "output_type": "execute_result",
          "data": {
            "text/plain": [
              "<keras.callbacks.History at 0x7fb24b40b650>"
            ]
          },
          "metadata": {},
          "execution_count": 15
        }
      ]
    }
  ]
}
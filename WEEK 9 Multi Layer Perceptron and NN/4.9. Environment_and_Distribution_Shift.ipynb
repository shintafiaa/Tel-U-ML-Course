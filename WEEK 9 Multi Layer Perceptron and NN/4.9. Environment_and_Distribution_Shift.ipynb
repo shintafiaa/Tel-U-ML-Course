{
  "nbformat": 4,
  "nbformat_minor": 0,
  "metadata": {
    "colab": {
      "name": "4.9. Environment and Distribution Shift.ipynb",
      "provenance": [],
      "authorship_tag": "ABX9TyOy95kuikQ/HVQxV+uE+9N6",
      "include_colab_link": true
    },
    "kernelspec": {
      "name": "python3",
      "display_name": "Python 3"
    },
    "language_info": {
      "name": "python"
    }
  },
  "cells": [
    {
      "cell_type": "markdown",
      "metadata": {
        "id": "view-in-github",
        "colab_type": "text"
      },
      "source": [
        "<a href=\"https://colab.research.google.com/github/shintafiaa/Tel-U-ML-Course/blob/main/WEEK%209%20Multi%20Layer%20Perceptron%20and%20NN/4.9.%20Environment_and_Distribution_Shift.ipynb\" target=\"_parent\"><img src=\"https://colab.research.google.com/assets/colab-badge.svg\" alt=\"Open In Colab\"/></a>"
      ]
    },
    {
      "cell_type": "markdown",
      "source": [
        "###Covariate Shift\n",
        "Consider the challenge of distinguishing cats and dogs. Our training data might consist of images of the kind in figure below:\n",
        "\n",
        "\n",
        "At test time we are asked to classify the images in figure below:\n",
        "\n",
        "\n",
        "The training set consists of photos, while the test set contains only cartoons. Training on a dataset with substantially different characteristics from the test set can spell trouble absent a coherent plan for how to adapt to the new domain."
      ],
      "metadata": {
        "id": "wPP1DnnTOVDR"
      }
    },
    {
      "cell_type": "markdown",
      "source": [
        "##Environment and Distribution Shift\n",
        "* In many cases training and test sets do not come from the same distribution. This is called distribution shift.\n",
        "* The risk is the expectation of the loss over the entire population of data drawn from their true distribution. However, this entire population is usually unavailable. Empirical risk is an average loss over the training data to approximate the risk. In practice, we perform empirical risk minimization.\n",
        "* Under the corresponding assumptions, covariate and label shift can be detected and corrected for at test time. Failure to account for this bias can become problematic at test time.\n",
        "* In some cases, the environment may remember automated actions and respond in surprising ways. We must account for this possibility when building models and continue to monitor live systems, open to the possibility that our models and the environment will become entangled in unanticipated ways."
      ],
      "metadata": {
        "id": "Kn9WfOAZNN9_"
      }
    }
  ]
}
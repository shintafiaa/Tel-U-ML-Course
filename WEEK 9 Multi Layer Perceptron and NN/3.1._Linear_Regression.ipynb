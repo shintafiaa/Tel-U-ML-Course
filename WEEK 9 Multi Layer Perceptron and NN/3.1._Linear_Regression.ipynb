{
  "nbformat": 4,
  "nbformat_minor": 0,
  "metadata": {
    "colab": {
      "name": "3.1. Linear Regression.ipynb",
      "provenance": [],
      "authorship_tag": "ABX9TyO6JCcoNSJrkbxiWLNxrYEt",
      "include_colab_link": true
    },
    "kernelspec": {
      "name": "python3",
      "display_name": "Python 3"
    },
    "language_info": {
      "name": "python"
    },
    "accelerator": "GPU"
  },
  "cells": [
    {
      "cell_type": "markdown",
      "metadata": {
        "id": "view-in-github",
        "colab_type": "text"
      },
      "source": [
        "<a href=\"https://colab.research.google.com/github/shintafiaa/Tel-U-ML-Course/blob/main/WEEK%209%20Multi%20Layer%20Perceptron%20and%20NN/3.1._Linear_Regression.ipynb\" target=\"_parent\"><img src=\"https://colab.research.google.com/assets/colab-badge.svg\" alt=\"Open In Colab\"/></a>"
      ]
    },
    {
      "cell_type": "markdown",
      "source": [
        "In chapter 3 of d2l.ai will cover:\n",
        "* the entire training process, \n",
        "* including defining simple neural network architectures,\n",
        "* handling data,\n",
        "* specifying a loss function, \n",
        "* training the model.  "
      ],
      "metadata": {
        "id": "W0BRCGEsLlfN"
      }
    },
    {
      "cell_type": "markdown",
      "source": [
        "#3.1. LINEAR REGRESSION\n",
        "\n",
        "Regression refers to a set of methods for modeling the relationship between one or more independent variables and a dependent variable. In the natural sciences and social sciences, the purpose of regression is most often to characterize the relationship between the inputs and outputs. Machine learning, on the other hand, is most often concerned with **prediction.**"
      ],
      "metadata": {
        "id": "DV8pi5_lMMEN"
      }
    },
    {
      "cell_type": "markdown",
      "source": [
        "##3.1.1. Basic Elements of Linear Regression\n",
        "Suppose that we wish to estimate the prices of houses (in dollars) based on their area (in square feet) and age (in years). \n",
        "###3.1.1.1. Linear Model\n",
        "\n",
        "The linearity assumption just says that the target (price) can be expressed as a weighted sum of the features (area and age):\n",
        "![image.png](data:image/png;base64,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)\n",
        "\n",
        "Given a dataset, our goal is to choose the weights  w  and the bias  b  such that on average, the predictions made according to our model best fit the true prices observed in the data.\n",
        "\n",
        "###3.1.1.2. Loss Function\n",
        "The loss function quantifies the distance between the real and predicted value of the target. The loss will usually be a non-negative number where smaller values are better and perfect predictions incur a loss of 0.\n",
        "\n",
        "###3.1.1.3. Analytic Solution\n",
        "There is just one critical point on the loss surface and it corresponds to the minimum of the loss over the entire domain. Taking the derivative of the loss with respect to  w  and setting it equal to zero yields the analytic (closed-form) solution:\n",
        "![image.png](data:image/png;base64,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)\n",
        "\n",
        "###3.1.1.4. Minibatch Stochastic Gradient Descent\n",
        "The key technique for optimizing nearly any deep learning model, consists of iteratively reducing the error by updating the parameters in the direction that incrementally lowers the loss function. This algorithm is called gradient descent.\n",
        "\n",
        "###3.1.1.5. Making Predictions with the Learned Model\n",
        "Now estimate the price of a new house (not contained in the training data)."
      ],
      "metadata": {
        "id": "1AyJgymUOHv5"
      }
    },
    {
      "cell_type": "markdown",
      "source": [
        "##3.1.2. Vectorization for Speed\n",
        "When training our models, we typically want to process whole minibatches of examples simultaneously. Doing this efficiently requires that we vectorize the calculations and leverage fast linear algebra libraries rather than writing costly for-loops in Python."
      ],
      "metadata": {
        "id": "M9JcXY5UQ29I"
      }
    },
    {
      "cell_type": "code",
      "source": [
        "#installation\n",
        "!pip install d2l==0.17.2"
      ],
      "metadata": {
        "colab": {
          "base_uri": "https://localhost:8080/",
          "height": 1000
        },
        "id": "E-rytWAQwTe9",
        "outputId": "195b4908-4ba8-441c-ed52-0a55a0dc9b12"
      },
      "execution_count": 21,
      "outputs": [
        {
          "output_type": "stream",
          "name": "stdout",
          "text": [
            "Requirement already satisfied: d2l==0.17.2 in /usr/local/lib/python3.7/dist-packages (0.17.2)\n",
            "Collecting matplotlib==3.3.3\n",
            "  Using cached matplotlib-3.3.3-cp37-cp37m-manylinux1_x86_64.whl (11.6 MB)\n",
            "Requirement already satisfied: jupyter==1.0.0 in /usr/local/lib/python3.7/dist-packages (from d2l==0.17.2) (1.0.0)\n",
            "Requirement already satisfied: requests==2.25.1 in /usr/local/lib/python3.7/dist-packages (from d2l==0.17.2) (2.25.1)\n",
            "Requirement already satisfied: numpy==1.18.5 in /usr/local/lib/python3.7/dist-packages (from d2l==0.17.2) (1.18.5)\n",
            "Requirement already satisfied: pandas==1.2.2 in /usr/local/lib/python3.7/dist-packages (from d2l==0.17.2) (1.2.2)\n",
            "Requirement already satisfied: qtconsole in /usr/local/lib/python3.7/dist-packages (from jupyter==1.0.0->d2l==0.17.2) (5.2.2)\n",
            "Requirement already satisfied: nbconvert in /usr/local/lib/python3.7/dist-packages (from jupyter==1.0.0->d2l==0.17.2) (5.6.1)\n",
            "Requirement already satisfied: ipykernel in /usr/local/lib/python3.7/dist-packages (from jupyter==1.0.0->d2l==0.17.2) (4.10.1)\n",
            "Requirement already satisfied: ipywidgets in /usr/local/lib/python3.7/dist-packages (from jupyter==1.0.0->d2l==0.17.2) (7.6.5)\n",
            "Requirement already satisfied: jupyter-console in /usr/local/lib/python3.7/dist-packages (from jupyter==1.0.0->d2l==0.17.2) (5.2.0)\n",
            "Requirement already satisfied: notebook in /usr/local/lib/python3.7/dist-packages (from jupyter==1.0.0->d2l==0.17.2) (5.3.1)\n",
            "Requirement already satisfied: kiwisolver>=1.0.1 in /usr/local/lib/python3.7/dist-packages (from matplotlib==3.3.3->d2l==0.17.2) (1.3.2)\n",
            "Requirement already satisfied: python-dateutil>=2.1 in /usr/local/lib/python3.7/dist-packages (from matplotlib==3.3.3->d2l==0.17.2) (2.8.2)\n",
            "Requirement already satisfied: cycler>=0.10 in /usr/local/lib/python3.7/dist-packages (from matplotlib==3.3.3->d2l==0.17.2) (0.11.0)\n",
            "Requirement already satisfied: pillow>=6.2.0 in /usr/local/lib/python3.7/dist-packages (from matplotlib==3.3.3->d2l==0.17.2) (7.1.2)\n",
            "Requirement already satisfied: pyparsing!=2.0.4,!=2.1.2,!=2.1.6,>=2.0.3 in /usr/local/lib/python3.7/dist-packages (from matplotlib==3.3.3->d2l==0.17.2) (3.0.6)\n",
            "Requirement already satisfied: pytz>=2017.3 in /usr/local/lib/python3.7/dist-packages (from pandas==1.2.2->d2l==0.17.2) (2018.9)\n",
            "Requirement already satisfied: idna<3,>=2.5 in /usr/local/lib/python3.7/dist-packages (from requests==2.25.1->d2l==0.17.2) (2.10)\n",
            "Requirement already satisfied: urllib3<1.27,>=1.21.1 in /usr/local/lib/python3.7/dist-packages (from requests==2.25.1->d2l==0.17.2) (1.24.3)\n",
            "Requirement already satisfied: chardet<5,>=3.0.2 in /usr/local/lib/python3.7/dist-packages (from requests==2.25.1->d2l==0.17.2) (3.0.4)\n",
            "Requirement already satisfied: certifi>=2017.4.17 in /usr/local/lib/python3.7/dist-packages (from requests==2.25.1->d2l==0.17.2) (2021.10.8)\n",
            "Requirement already satisfied: six>=1.5 in /usr/local/lib/python3.7/dist-packages (from python-dateutil>=2.1->matplotlib==3.3.3->d2l==0.17.2) (1.15.0)\n",
            "Requirement already satisfied: ipython>=4.0.0 in /usr/local/lib/python3.7/dist-packages (from ipykernel->jupyter==1.0.0->d2l==0.17.2) (5.5.0)\n",
            "Requirement already satisfied: jupyter-client in /usr/local/lib/python3.7/dist-packages (from ipykernel->jupyter==1.0.0->d2l==0.17.2) (5.3.5)\n",
            "Requirement already satisfied: tornado>=4.0 in /usr/local/lib/python3.7/dist-packages (from ipykernel->jupyter==1.0.0->d2l==0.17.2) (5.1.1)\n",
            "Requirement already satisfied: traitlets>=4.1.0 in /usr/local/lib/python3.7/dist-packages (from ipykernel->jupyter==1.0.0->d2l==0.17.2) (5.1.1)\n",
            "Requirement already satisfied: pygments in /usr/local/lib/python3.7/dist-packages (from ipython>=4.0.0->ipykernel->jupyter==1.0.0->d2l==0.17.2) (2.6.1)\n",
            "Requirement already satisfied: pickleshare in /usr/local/lib/python3.7/dist-packages (from ipython>=4.0.0->ipykernel->jupyter==1.0.0->d2l==0.17.2) (0.7.5)\n",
            "Requirement already satisfied: decorator in /usr/local/lib/python3.7/dist-packages (from ipython>=4.0.0->ipykernel->jupyter==1.0.0->d2l==0.17.2) (4.4.2)\n",
            "Requirement already satisfied: pexpect in /usr/local/lib/python3.7/dist-packages (from ipython>=4.0.0->ipykernel->jupyter==1.0.0->d2l==0.17.2) (4.8.0)\n",
            "Requirement already satisfied: simplegeneric>0.8 in /usr/local/lib/python3.7/dist-packages (from ipython>=4.0.0->ipykernel->jupyter==1.0.0->d2l==0.17.2) (0.8.1)\n",
            "Requirement already satisfied: setuptools>=18.5 in /usr/local/lib/python3.7/dist-packages (from ipython>=4.0.0->ipykernel->jupyter==1.0.0->d2l==0.17.2) (57.4.0)\n",
            "Requirement already satisfied: prompt-toolkit<2.0.0,>=1.0.4 in /usr/local/lib/python3.7/dist-packages (from ipython>=4.0.0->ipykernel->jupyter==1.0.0->d2l==0.17.2) (1.0.18)\n",
            "Requirement already satisfied: wcwidth in /usr/local/lib/python3.7/dist-packages (from prompt-toolkit<2.0.0,>=1.0.4->ipython>=4.0.0->ipykernel->jupyter==1.0.0->d2l==0.17.2) (0.2.5)\n",
            "Requirement already satisfied: widgetsnbextension~=3.5.0 in /usr/local/lib/python3.7/dist-packages (from ipywidgets->jupyter==1.0.0->d2l==0.17.2) (3.5.2)\n",
            "Requirement already satisfied: jupyterlab-widgets>=1.0.0 in /usr/local/lib/python3.7/dist-packages (from ipywidgets->jupyter==1.0.0->d2l==0.17.2) (1.0.2)\n",
            "Requirement already satisfied: nbformat>=4.2.0 in /usr/local/lib/python3.7/dist-packages (from ipywidgets->jupyter==1.0.0->d2l==0.17.2) (5.1.3)\n",
            "Requirement already satisfied: ipython-genutils~=0.2.0 in /usr/local/lib/python3.7/dist-packages (from ipywidgets->jupyter==1.0.0->d2l==0.17.2) (0.2.0)\n",
            "Requirement already satisfied: jsonschema!=2.5.0,>=2.4 in /usr/local/lib/python3.7/dist-packages (from nbformat>=4.2.0->ipywidgets->jupyter==1.0.0->d2l==0.17.2) (4.3.3)\n",
            "Requirement already satisfied: jupyter-core in /usr/local/lib/python3.7/dist-packages (from nbformat>=4.2.0->ipywidgets->jupyter==1.0.0->d2l==0.17.2) (4.9.1)\n",
            "Requirement already satisfied: typing-extensions in /usr/local/lib/python3.7/dist-packages (from jsonschema!=2.5.0,>=2.4->nbformat>=4.2.0->ipywidgets->jupyter==1.0.0->d2l==0.17.2) (3.10.0.2)\n",
            "Requirement already satisfied: pyrsistent!=0.17.0,!=0.17.1,!=0.17.2,>=0.14.0 in /usr/local/lib/python3.7/dist-packages (from jsonschema!=2.5.0,>=2.4->nbformat>=4.2.0->ipywidgets->jupyter==1.0.0->d2l==0.17.2) (0.18.0)\n",
            "Requirement already satisfied: importlib-resources>=1.4.0 in /usr/local/lib/python3.7/dist-packages (from jsonschema!=2.5.0,>=2.4->nbformat>=4.2.0->ipywidgets->jupyter==1.0.0->d2l==0.17.2) (5.4.0)\n",
            "Requirement already satisfied: attrs>=17.4.0 in /usr/local/lib/python3.7/dist-packages (from jsonschema!=2.5.0,>=2.4->nbformat>=4.2.0->ipywidgets->jupyter==1.0.0->d2l==0.17.2) (21.4.0)\n",
            "Requirement already satisfied: importlib-metadata in /usr/local/lib/python3.7/dist-packages (from jsonschema!=2.5.0,>=2.4->nbformat>=4.2.0->ipywidgets->jupyter==1.0.0->d2l==0.17.2) (4.10.0)\n",
            "Requirement already satisfied: zipp>=3.1.0 in /usr/local/lib/python3.7/dist-packages (from importlib-resources>=1.4.0->jsonschema!=2.5.0,>=2.4->nbformat>=4.2.0->ipywidgets->jupyter==1.0.0->d2l==0.17.2) (3.7.0)\n",
            "Requirement already satisfied: jinja2 in /usr/local/lib/python3.7/dist-packages (from notebook->jupyter==1.0.0->d2l==0.17.2) (2.11.3)\n",
            "Requirement already satisfied: Send2Trash in /usr/local/lib/python3.7/dist-packages (from notebook->jupyter==1.0.0->d2l==0.17.2) (1.8.0)\n",
            "Requirement already satisfied: terminado>=0.8.1 in /usr/local/lib/python3.7/dist-packages (from notebook->jupyter==1.0.0->d2l==0.17.2) (0.12.1)\n",
            "Requirement already satisfied: pyzmq>=13 in /usr/local/lib/python3.7/dist-packages (from jupyter-client->ipykernel->jupyter==1.0.0->d2l==0.17.2) (22.3.0)\n",
            "Requirement already satisfied: ptyprocess in /usr/local/lib/python3.7/dist-packages (from terminado>=0.8.1->notebook->jupyter==1.0.0->d2l==0.17.2) (0.7.0)\n",
            "Requirement already satisfied: MarkupSafe>=0.23 in /usr/local/lib/python3.7/dist-packages (from jinja2->notebook->jupyter==1.0.0->d2l==0.17.2) (2.0.1)\n",
            "Requirement already satisfied: defusedxml in /usr/local/lib/python3.7/dist-packages (from nbconvert->jupyter==1.0.0->d2l==0.17.2) (0.7.1)\n",
            "Requirement already satisfied: testpath in /usr/local/lib/python3.7/dist-packages (from nbconvert->jupyter==1.0.0->d2l==0.17.2) (0.5.0)\n",
            "Requirement already satisfied: bleach in /usr/local/lib/python3.7/dist-packages (from nbconvert->jupyter==1.0.0->d2l==0.17.2) (4.1.0)\n",
            "Requirement already satisfied: mistune<2,>=0.8.1 in /usr/local/lib/python3.7/dist-packages (from nbconvert->jupyter==1.0.0->d2l==0.17.2) (0.8.4)\n",
            "Requirement already satisfied: pandocfilters>=1.4.1 in /usr/local/lib/python3.7/dist-packages (from nbconvert->jupyter==1.0.0->d2l==0.17.2) (1.5.0)\n",
            "Requirement already satisfied: entrypoints>=0.2.2 in /usr/local/lib/python3.7/dist-packages (from nbconvert->jupyter==1.0.0->d2l==0.17.2) (0.3)\n",
            "Requirement already satisfied: webencodings in /usr/local/lib/python3.7/dist-packages (from bleach->nbconvert->jupyter==1.0.0->d2l==0.17.2) (0.5.1)\n",
            "Requirement already satisfied: packaging in /usr/local/lib/python3.7/dist-packages (from bleach->nbconvert->jupyter==1.0.0->d2l==0.17.2) (21.3)\n",
            "Requirement already satisfied: qtpy in /usr/local/lib/python3.7/dist-packages (from qtconsole->jupyter==1.0.0->d2l==0.17.2) (2.0.0)\n",
            "Installing collected packages: matplotlib\n",
            "  Attempting uninstall: matplotlib\n",
            "    Found existing installation: matplotlib 3.0.2\n",
            "    Uninstalling matplotlib-3.0.2:\n",
            "      Successfully uninstalled matplotlib-3.0.2\n",
            "\u001b[31mERROR: pip's dependency resolver does not currently take into account all the packages that are installed. This behaviour is the source of the following dependency conflicts.\n",
            "albumentations 0.1.12 requires imgaug<0.2.7,>=0.2.5, but you have imgaug 0.2.9 which is incompatible.\u001b[0m\n",
            "Successfully installed matplotlib-3.3.3\n"
          ]
        },
        {
          "output_type": "display_data",
          "data": {
            "application/vnd.colab-display-data+json": {
              "pip_warning": {
                "packages": [
                  "matplotlib",
                  "mpl_toolkits"
                ]
              }
            }
          },
          "metadata": {}
        }
      ]
    },
    {
      "cell_type": "code",
      "source": [
        "#import library\n",
        "import math\n",
        "import time\n",
        "import numpy as np\n",
        "import tensorflow as tf\n",
        "from d2l import tensorflow as d2l"
      ],
      "metadata": {
        "id": "mtMa3bdmugIt"
      },
      "execution_count": 22,
      "outputs": []
    },
    {
      "cell_type": "markdown",
      "source": [
        "To illustrate why this matters so much, we can consider two methods for adding vectors. To start we instantiate two 10000-dimensional vectors containing all ones. In one method we will loop over the vectors with a Python for-loop. In the other method we will rely on a single call to +."
      ],
      "metadata": {
        "id": "83cqLVeARSzn"
      }
    },
    {
      "cell_type": "code",
      "source": [
        "n = 10000\n",
        "a = tf.ones(n)\n",
        "b = tf.ones(n)"
      ],
      "metadata": {
        "id": "ybLh15JkRYmZ"
      },
      "execution_count": 23,
      "outputs": []
    },
    {
      "cell_type": "markdown",
      "source": [
        "Since we will benchmark the running time frequently in this book, let us define a timer."
      ],
      "metadata": {
        "id": "1NDgBkqPRbX1"
      }
    },
    {
      "cell_type": "code",
      "source": [
        "class Timer:  \n",
        "    \"\"\"Record multiple running times.\"\"\"\n",
        "    def __init__(self):\n",
        "        self.times = []\n",
        "        self.start()\n",
        "\n",
        "    def start(self):\n",
        "        \"\"\"Start the timer.\"\"\"\n",
        "        self.tik = time.time()\n",
        "\n",
        "    def stop(self):\n",
        "        \"\"\"Stop the timer and record the time in a list.\"\"\"\n",
        "        self.times.append(time.time() - self.tik)\n",
        "        return self.times[-1]\n",
        "\n",
        "    def avg(self):\n",
        "        \"\"\"Return the average time.\"\"\"\n",
        "        return sum(self.times) / len(self.times)\n",
        "\n",
        "    def sum(self):\n",
        "        \"\"\"Return the sum of time.\"\"\"\n",
        "        return sum(self.times)\n",
        "\n",
        "    def cumsum(self):\n",
        "        \"\"\"Return the accumulated time.\"\"\"\n",
        "        return np.array(self.times).cumsum().tolist()"
      ],
      "metadata": {
        "id": "wsMSeUfiRb4R"
      },
      "execution_count": 24,
      "outputs": []
    },
    {
      "cell_type": "markdown",
      "source": [
        "Now we can benchmark the workloads. First, we add them, one coordinate at a time, using a for-loop."
      ],
      "metadata": {
        "id": "hMKQMZWBRlL9"
      }
    },
    {
      "cell_type": "code",
      "source": [
        "c = tf.Variable(tf.zeros(n))\n",
        "timer = Timer()\n",
        "for i in range(n):\n",
        "    c[i].assign(a[i] + b[i])\n",
        "f'{timer.stop():.5f} sec'"
      ],
      "metadata": {
        "colab": {
          "base_uri": "https://localhost:8080/",
          "height": 35
        },
        "id": "s-y7ts3WRl9U",
        "outputId": "e1febbbf-116a-47bd-bdc4-98253a6d2106"
      },
      "execution_count": 25,
      "outputs": [
        {
          "output_type": "execute_result",
          "data": {
            "application/vnd.google.colaboratory.intrinsic+json": {
              "type": "string"
            },
            "text/plain": [
              "'7.35021 sec'"
            ]
          },
          "metadata": {},
          "execution_count": 25
        }
      ]
    },
    {
      "cell_type": "markdown",
      "source": [
        "Alternatively, we rely on the reloaded + operator to compute the elementwise sum."
      ],
      "metadata": {
        "id": "qw9WVMwbRqZk"
      }
    },
    {
      "cell_type": "code",
      "source": [
        "timer.start()\n",
        "d = a + b\n",
        "f'{timer.stop():.5f} sec'"
      ],
      "metadata": {
        "colab": {
          "base_uri": "https://localhost:8080/",
          "height": 35
        },
        "id": "_N7gYySARskK",
        "outputId": "3df28c02-69e0-42c2-9f1e-a611a4833404"
      },
      "execution_count": 26,
      "outputs": [
        {
          "output_type": "execute_result",
          "data": {
            "application/vnd.google.colaboratory.intrinsic+json": {
              "type": "string"
            },
            "text/plain": [
              "'0.00025 sec'"
            ]
          },
          "metadata": {},
          "execution_count": 26
        }
      ]
    },
    {
      "cell_type": "markdown",
      "source": [
        "You probably noticed that the second method is dramatically faster than the first. Vectorizing code often yields order-of-magnitude speedups. Moreover, we push more of the mathematics to the library and need not write as many calculations ourselves, reducing the potential for errors."
      ],
      "metadata": {
        "id": "Mu9ZeOxOR1ep"
      }
    },
    {
      "cell_type": "markdown",
      "source": [
        "##3.1.3. The Normal Distribution and Squared Loss\n",
        "\n",
        "While you can already get your hands dirty using only the information above, in the following we can more formally motivate the squared loss objective via assumptions about the distribution of noise.\n",
        "\n",
        "the probability density of a normal distribution with mean  μ  and variance  σ^2  (standard deviation  σ ) is given as:\n",
        "![image.png](data:image/png;base64,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)"
      ],
      "metadata": {
        "id": "5WpLXjpZR4qa"
      }
    },
    {
      "cell_type": "code",
      "source": [
        "#define a Python function to compute the normal distribution\n",
        "def normal(x, mu, sigma):\n",
        "    p = 1 / math.sqrt(2 * math.pi * sigma**2)\n",
        "    return p * np.exp(-0.5 / sigma**2 * (x - mu)**2)"
      ],
      "metadata": {
        "id": "fjBk1Ou0Sqgf"
      },
      "execution_count": 27,
      "outputs": []
    },
    {
      "cell_type": "markdown",
      "source": [
        "Visualize the normal distributions"
      ],
      "metadata": {
        "id": "PERmNnODSyrS"
      }
    },
    {
      "cell_type": "code",
      "source": [
        "pip install matplotlib==3.0.2"
      ],
      "metadata": {
        "colab": {
          "base_uri": "https://localhost:8080/",
          "height": 469
        },
        "id": "ZWhWsw0lWAYx",
        "outputId": "fa41e7a3-902a-44d2-a7c6-cd5647e268e9"
      },
      "execution_count": 28,
      "outputs": [
        {
          "output_type": "stream",
          "name": "stdout",
          "text": [
            "Collecting matplotlib==3.0.2\n",
            "  Using cached matplotlib-3.0.2-cp37-cp37m-manylinux1_x86_64.whl (12.9 MB)\n",
            "Requirement already satisfied: pyparsing!=2.0.4,!=2.1.2,!=2.1.6,>=2.0.1 in /usr/local/lib/python3.7/dist-packages (from matplotlib==3.0.2) (3.0.6)\n",
            "Requirement already satisfied: python-dateutil>=2.1 in /usr/local/lib/python3.7/dist-packages (from matplotlib==3.0.2) (2.8.2)\n",
            "Requirement already satisfied: numpy>=1.10.0 in /usr/local/lib/python3.7/dist-packages (from matplotlib==3.0.2) (1.18.5)\n",
            "Requirement already satisfied: kiwisolver>=1.0.1 in /usr/local/lib/python3.7/dist-packages (from matplotlib==3.0.2) (1.3.2)\n",
            "Requirement already satisfied: cycler>=0.10 in /usr/local/lib/python3.7/dist-packages (from matplotlib==3.0.2) (0.11.0)\n",
            "Requirement already satisfied: six>=1.5 in /usr/local/lib/python3.7/dist-packages (from python-dateutil>=2.1->matplotlib==3.0.2) (1.15.0)\n",
            "Installing collected packages: matplotlib\n",
            "  Attempting uninstall: matplotlib\n",
            "    Found existing installation: matplotlib 3.3.3\n",
            "    Uninstalling matplotlib-3.3.3:\n",
            "      Successfully uninstalled matplotlib-3.3.3\n",
            "\u001b[31mERROR: pip's dependency resolver does not currently take into account all the packages that are installed. This behaviour is the source of the following dependency conflicts.\n",
            "plotnine 0.6.0 requires matplotlib>=3.1.1, but you have matplotlib 3.0.2 which is incompatible.\n",
            "mizani 0.6.0 requires matplotlib>=3.1.1, but you have matplotlib 3.0.2 which is incompatible.\n",
            "d2l 0.17.2 requires matplotlib==3.3.3, but you have matplotlib 3.0.2 which is incompatible.\n",
            "albumentations 0.1.12 requires imgaug<0.2.7,>=0.2.5, but you have imgaug 0.2.9 which is incompatible.\u001b[0m\n",
            "Successfully installed matplotlib-3.0.2\n"
          ]
        },
        {
          "output_type": "display_data",
          "data": {
            "application/vnd.colab-display-data+json": {
              "pip_warning": {
                "packages": [
                  "matplotlib",
                  "mpl_toolkits"
                ]
              }
            }
          },
          "metadata": {}
        }
      ]
    },
    {
      "cell_type": "code",
      "source": [
        "# Use numpy again for visualization\n",
        "x = np.arange(-7, 7, 0.01)\n",
        "\n",
        "# Mean and standard deviation pairs\n",
        "params = [(0, 1), (0, 2), (3, 1)]\n",
        "d2l.plot(x, [normal(x, mu, sigma) for mu, sigma in params], xlabel='x',\n",
        "         ylabel='p(x)', figsize=(4.5, 2.5),\n",
        "         legend=[f'mean {mu}, std {sigma}' for mu, sigma in params])"
      ],
      "metadata": {
        "colab": {
          "base_uri": "https://localhost:8080/",
          "height": 267
        },
        "id": "Z2wRby4WSz1u",
        "outputId": "c0fe4c14-079f-4604-c8f9-f73066019d71"
      },
      "execution_count": 29,
      "outputs": [
        {
          "output_type": "display_data",
          "data": {
            "text/plain": [
              "<Figure size 324x180 with 1 Axes>"
            ],
            "image/svg+xml": "<?xml version=\"1.0\" encoding=\"utf-8\" standalone=\"no\"?>\n<!DOCTYPE svg PUBLIC \"-//W3C//DTD SVG 1.1//EN\"\n  \"http://www.w3.org/Graphics/SVG/1.1/DTD/svg11.dtd\">\n<!-- Created with matplotlib (https://matplotlib.org/) -->\n<svg height=\"184.15625pt\" version=\"1.1\" viewBox=\"0 0 305.58125 184.15625\" width=\"305.58125pt\" xmlns=\"http://www.w3.org/2000/svg\" xmlns:xlink=\"http://www.w3.org/1999/xlink\">\n <defs>\n  <style type=\"text/css\">\n*{stroke-linecap:butt;stroke-linejoin:round;}\n  </style>\n </defs>\n <g id=\"figure_1\">\n  <g id=\"patch_1\">\n   <path d=\"M 0 184.15625 \nL 305.58125 184.15625 \nL 305.58125 -0 \nL 0 -0 \nz\n\" style=\"fill:none;\"/>\n  </g>\n  <g id=\"axes_1\">\n   <g id=\"patch_2\">\n    <path d=\"M 43.78125 146.6 \nL 294.88125 146.6 \nL 294.88125 10.7 \nL 43.78125 10.7 \nz\n\" style=\"fill:#ffffff;\"/>\n   </g>\n   <g id=\"matplotlib.axis_1\">\n    <g id=\"xtick_1\">\n     <g id=\"line2d_1\">\n      <path clip-path=\"url(#p2552a2c08f)\" d=\"M 71.511736 146.6 \nL 71.511736 10.7 \n\" style=\"fill:none;stroke:#b0b0b0;stroke-linecap:square;stroke-width:0.8;\"/>\n     </g>\n     <g id=\"line2d_2\">\n      <defs>\n       <path d=\"M 0 0 \nL 0 3.5 \n\" id=\"m6c5445669e\" style=\"stroke:#000000;stroke-width:0.8;\"/>\n      </defs>\n      <g>\n       <use style=\"stroke:#000000;stroke-width:0.8;\" x=\"71.511736\" xlink:href=\"#m6c5445669e\" y=\"146.6\"/>\n      </g>\n     </g>\n     <g id=\"text_1\">\n      <!-- −6 -->\n      <defs>\n       <path d=\"M 10.59375 35.5 \nL 73.1875 35.5 \nL 73.1875 27.203125 \nL 10.59375 27.203125 \nz\n\" id=\"DejaVuSans-8722\"/>\n       <path d=\"M 33.015625 40.375 \nQ 26.375 40.375 22.484375 35.828125 \nQ 18.609375 31.296875 18.609375 23.390625 \nQ 18.609375 15.53125 22.484375 10.953125 \nQ 26.375 6.390625 33.015625 6.390625 \nQ 39.65625 6.390625 43.53125 10.953125 \nQ 47.40625 15.53125 47.40625 23.390625 \nQ 47.40625 31.296875 43.53125 35.828125 \nQ 39.65625 40.375 33.015625 40.375 \nz\nM 52.59375 71.296875 \nL 52.59375 62.3125 \nQ 48.875 64.0625 45.09375 64.984375 \nQ 41.3125 65.921875 37.59375 65.921875 \nQ 27.828125 65.921875 22.671875 59.328125 \nQ 17.53125 52.734375 16.796875 39.40625 \nQ 19.671875 43.65625 24.015625 45.921875 \nQ 28.375 48.1875 33.59375 48.1875 \nQ 44.578125 48.1875 50.953125 41.515625 \nQ 57.328125 34.859375 57.328125 23.390625 \nQ 57.328125 12.15625 50.6875 5.359375 \nQ 44.046875 -1.421875 33.015625 -1.421875 \nQ 20.359375 -1.421875 13.671875 8.265625 \nQ 6.984375 17.96875 6.984375 36.375 \nQ 6.984375 53.65625 15.1875 63.9375 \nQ 23.390625 74.21875 37.203125 74.21875 \nQ 40.921875 74.21875 44.703125 73.484375 \nQ 48.484375 72.75 52.59375 71.296875 \nz\n\" id=\"DejaVuSans-54\"/>\n      </defs>\n      <g transform=\"translate(64.140642 161.198437)scale(0.1 -0.1)\">\n       <use xlink:href=\"#DejaVuSans-8722\"/>\n       <use x=\"83.789062\" xlink:href=\"#DejaVuSans-54\"/>\n      </g>\n     </g>\n    </g>\n    <g id=\"xtick_2\">\n     <g id=\"line2d_3\">\n      <path clip-path=\"url(#p2552a2c08f)\" d=\"M 104.145435 146.6 \nL 104.145435 10.7 \n\" style=\"fill:none;stroke:#b0b0b0;stroke-linecap:square;stroke-width:0.8;\"/>\n     </g>\n     <g id=\"line2d_4\">\n      <g>\n       <use style=\"stroke:#000000;stroke-width:0.8;\" x=\"104.145435\" xlink:href=\"#m6c5445669e\" y=\"146.6\"/>\n      </g>\n     </g>\n     <g id=\"text_2\">\n      <!-- −4 -->\n      <defs>\n       <path d=\"M 37.796875 64.3125 \nL 12.890625 25.390625 \nL 37.796875 25.390625 \nz\nM 35.203125 72.90625 \nL 47.609375 72.90625 \nL 47.609375 25.390625 \nL 58.015625 25.390625 \nL 58.015625 17.1875 \nL 47.609375 17.1875 \nL 47.609375 0 \nL 37.796875 0 \nL 37.796875 17.1875 \nL 4.890625 17.1875 \nL 4.890625 26.703125 \nz\n\" id=\"DejaVuSans-52\"/>\n      </defs>\n      <g transform=\"translate(96.774342 161.198437)scale(0.1 -0.1)\">\n       <use xlink:href=\"#DejaVuSans-8722\"/>\n       <use x=\"83.789062\" xlink:href=\"#DejaVuSans-52\"/>\n      </g>\n     </g>\n    </g>\n    <g id=\"xtick_3\">\n     <g id=\"line2d_5\">\n      <path clip-path=\"url(#p2552a2c08f)\" d=\"M 136.779135 146.6 \nL 136.779135 10.7 \n\" style=\"fill:none;stroke:#b0b0b0;stroke-linecap:square;stroke-width:0.8;\"/>\n     </g>\n     <g id=\"line2d_6\">\n      <g>\n       <use style=\"stroke:#000000;stroke-width:0.8;\" x=\"136.779135\" xlink:href=\"#m6c5445669e\" y=\"146.6\"/>\n      </g>\n     </g>\n     <g id=\"text_3\">\n      <!-- −2 -->\n      <defs>\n       <path d=\"M 19.1875 8.296875 \nL 53.609375 8.296875 \nL 53.609375 0 \nL 7.328125 0 \nL 7.328125 8.296875 \nQ 12.9375 14.109375 22.625 23.890625 \nQ 32.328125 33.6875 34.8125 36.53125 \nQ 39.546875 41.84375 41.421875 45.53125 \nQ 43.3125 49.21875 43.3125 52.78125 \nQ 43.3125 58.59375 39.234375 62.25 \nQ 35.15625 65.921875 28.609375 65.921875 \nQ 23.96875 65.921875 18.8125 64.3125 \nQ 13.671875 62.703125 7.8125 59.421875 \nL 7.8125 69.390625 \nQ 13.765625 71.78125 18.9375 73 \nQ 24.125 74.21875 28.421875 74.21875 \nQ 39.75 74.21875 46.484375 68.546875 \nQ 53.21875 62.890625 53.21875 53.421875 \nQ 53.21875 48.921875 51.53125 44.890625 \nQ 49.859375 40.875 45.40625 35.40625 \nQ 44.1875 33.984375 37.640625 27.21875 \nQ 31.109375 20.453125 19.1875 8.296875 \nz\n\" id=\"DejaVuSans-50\"/>\n      </defs>\n      <g transform=\"translate(129.408041 161.198437)scale(0.1 -0.1)\">\n       <use xlink:href=\"#DejaVuSans-8722\"/>\n       <use x=\"83.789062\" xlink:href=\"#DejaVuSans-50\"/>\n      </g>\n     </g>\n    </g>\n    <g id=\"xtick_4\">\n     <g id=\"line2d_7\">\n      <path clip-path=\"url(#p2552a2c08f)\" d=\"M 169.412834 146.6 \nL 169.412834 10.7 \n\" style=\"fill:none;stroke:#b0b0b0;stroke-linecap:square;stroke-width:0.8;\"/>\n     </g>\n     <g id=\"line2d_8\">\n      <g>\n       <use style=\"stroke:#000000;stroke-width:0.8;\" x=\"169.412834\" xlink:href=\"#m6c5445669e\" y=\"146.6\"/>\n      </g>\n     </g>\n     <g id=\"text_4\">\n      <!-- 0 -->\n      <defs>\n       <path d=\"M 31.78125 66.40625 \nQ 24.171875 66.40625 20.328125 58.90625 \nQ 16.5 51.421875 16.5 36.375 \nQ 16.5 21.390625 20.328125 13.890625 \nQ 24.171875 6.390625 31.78125 6.390625 \nQ 39.453125 6.390625 43.28125 13.890625 \nQ 47.125 21.390625 47.125 36.375 \nQ 47.125 51.421875 43.28125 58.90625 \nQ 39.453125 66.40625 31.78125 66.40625 \nz\nM 31.78125 74.21875 \nQ 44.046875 74.21875 50.515625 64.515625 \nQ 56.984375 54.828125 56.984375 36.375 \nQ 56.984375 17.96875 50.515625 8.265625 \nQ 44.046875 -1.421875 31.78125 -1.421875 \nQ 19.53125 -1.421875 13.0625 8.265625 \nQ 6.59375 17.96875 6.59375 36.375 \nQ 6.59375 54.828125 13.0625 64.515625 \nQ 19.53125 74.21875 31.78125 74.21875 \nz\n\" id=\"DejaVuSans-48\"/>\n      </defs>\n      <g transform=\"translate(166.231584 161.198437)scale(0.1 -0.1)\">\n       <use xlink:href=\"#DejaVuSans-48\"/>\n      </g>\n     </g>\n    </g>\n    <g id=\"xtick_5\">\n     <g id=\"line2d_9\">\n      <path clip-path=\"url(#p2552a2c08f)\" d=\"M 202.046534 146.6 \nL 202.046534 10.7 \n\" style=\"fill:none;stroke:#b0b0b0;stroke-linecap:square;stroke-width:0.8;\"/>\n     </g>\n     <g id=\"line2d_10\">\n      <g>\n       <use style=\"stroke:#000000;stroke-width:0.8;\" x=\"202.046534\" xlink:href=\"#m6c5445669e\" y=\"146.6\"/>\n      </g>\n     </g>\n     <g id=\"text_5\">\n      <!-- 2 -->\n      <g transform=\"translate(198.865284 161.198437)scale(0.1 -0.1)\">\n       <use xlink:href=\"#DejaVuSans-50\"/>\n      </g>\n     </g>\n    </g>\n    <g id=\"xtick_6\">\n     <g id=\"line2d_11\">\n      <path clip-path=\"url(#p2552a2c08f)\" d=\"M 234.680233 146.6 \nL 234.680233 10.7 \n\" style=\"fill:none;stroke:#b0b0b0;stroke-linecap:square;stroke-width:0.8;\"/>\n     </g>\n     <g id=\"line2d_12\">\n      <g>\n       <use style=\"stroke:#000000;stroke-width:0.8;\" x=\"234.680233\" xlink:href=\"#m6c5445669e\" y=\"146.6\"/>\n      </g>\n     </g>\n     <g id=\"text_6\">\n      <!-- 4 -->\n      <g transform=\"translate(231.498983 161.198437)scale(0.1 -0.1)\">\n       <use xlink:href=\"#DejaVuSans-52\"/>\n      </g>\n     </g>\n    </g>\n    <g id=\"xtick_7\">\n     <g id=\"line2d_13\">\n      <path clip-path=\"url(#p2552a2c08f)\" d=\"M 267.313932 146.6 \nL 267.313932 10.7 \n\" style=\"fill:none;stroke:#b0b0b0;stroke-linecap:square;stroke-width:0.8;\"/>\n     </g>\n     <g id=\"line2d_14\">\n      <g>\n       <use style=\"stroke:#000000;stroke-width:0.8;\" x=\"267.313932\" xlink:href=\"#m6c5445669e\" y=\"146.6\"/>\n      </g>\n     </g>\n     <g id=\"text_7\">\n      <!-- 6 -->\n      <g transform=\"translate(264.132682 161.198437)scale(0.1 -0.1)\">\n       <use xlink:href=\"#DejaVuSans-54\"/>\n      </g>\n     </g>\n    </g>\n    <g id=\"text_8\">\n     <!-- x -->\n     <defs>\n      <path d=\"M 54.890625 54.6875 \nL 35.109375 28.078125 \nL 55.90625 0 \nL 45.3125 0 \nL 29.390625 21.484375 \nL 13.484375 0 \nL 2.875 0 \nL 24.125 28.609375 \nL 4.6875 54.6875 \nL 15.28125 54.6875 \nL 29.78125 35.203125 \nL 44.28125 54.6875 \nz\n\" id=\"DejaVuSans-120\"/>\n     </defs>\n     <g transform=\"translate(166.371875 174.876562)scale(0.1 -0.1)\">\n      <use xlink:href=\"#DejaVuSans-120\"/>\n     </g>\n    </g>\n   </g>\n   <g id=\"matplotlib.axis_2\">\n    <g id=\"ytick_1\">\n     <g id=\"line2d_15\">\n      <path clip-path=\"url(#p2552a2c08f)\" d=\"M 43.78125 140.422727 \nL 294.88125 140.422727 \n\" style=\"fill:none;stroke:#b0b0b0;stroke-linecap:square;stroke-width:0.8;\"/>\n     </g>\n     <g id=\"line2d_16\">\n      <defs>\n       <path d=\"M 0 0 \nL -3.5 0 \n\" id=\"m0f7ee114f8\" style=\"stroke:#000000;stroke-width:0.8;\"/>\n      </defs>\n      <g>\n       <use style=\"stroke:#000000;stroke-width:0.8;\" x=\"43.78125\" xlink:href=\"#m0f7ee114f8\" y=\"140.422727\"/>\n      </g>\n     </g>\n     <g id=\"text_9\">\n      <!-- 0.0 -->\n      <defs>\n       <path d=\"M 10.6875 12.40625 \nL 21 12.40625 \nL 21 0 \nL 10.6875 0 \nz\n\" id=\"DejaVuSans-46\"/>\n      </defs>\n      <g transform=\"translate(20.878125 144.221946)scale(0.1 -0.1)\">\n       <use xlink:href=\"#DejaVuSans-48\"/>\n       <use x=\"63.623047\" xlink:href=\"#DejaVuSans-46\"/>\n       <use x=\"95.410156\" xlink:href=\"#DejaVuSans-48\"/>\n      </g>\n     </g>\n    </g>\n    <g id=\"ytick_2\">\n     <g id=\"line2d_17\">\n      <path clip-path=\"url(#p2552a2c08f)\" d=\"M 43.78125 109.454474 \nL 294.88125 109.454474 \n\" style=\"fill:none;stroke:#b0b0b0;stroke-linecap:square;stroke-width:0.8;\"/>\n     </g>\n     <g id=\"line2d_18\">\n      <g>\n       <use style=\"stroke:#000000;stroke-width:0.8;\" x=\"43.78125\" xlink:href=\"#m0f7ee114f8\" y=\"109.454474\"/>\n      </g>\n     </g>\n     <g id=\"text_10\">\n      <!-- 0.1 -->\n      <defs>\n       <path d=\"M 12.40625 8.296875 \nL 28.515625 8.296875 \nL 28.515625 63.921875 \nL 10.984375 60.40625 \nL 10.984375 69.390625 \nL 28.421875 72.90625 \nL 38.28125 72.90625 \nL 38.28125 8.296875 \nL 54.390625 8.296875 \nL 54.390625 0 \nL 12.40625 0 \nz\n\" id=\"DejaVuSans-49\"/>\n      </defs>\n      <g transform=\"translate(20.878125 113.253693)scale(0.1 -0.1)\">\n       <use xlink:href=\"#DejaVuSans-48\"/>\n       <use x=\"63.623047\" xlink:href=\"#DejaVuSans-46\"/>\n       <use x=\"95.410156\" xlink:href=\"#DejaVuSans-49\"/>\n      </g>\n     </g>\n    </g>\n    <g id=\"ytick_3\">\n     <g id=\"line2d_19\">\n      <path clip-path=\"url(#p2552a2c08f)\" d=\"M 43.78125 78.486221 \nL 294.88125 78.486221 \n\" style=\"fill:none;stroke:#b0b0b0;stroke-linecap:square;stroke-width:0.8;\"/>\n     </g>\n     <g id=\"line2d_20\">\n      <g>\n       <use style=\"stroke:#000000;stroke-width:0.8;\" x=\"43.78125\" xlink:href=\"#m0f7ee114f8\" y=\"78.486221\"/>\n      </g>\n     </g>\n     <g id=\"text_11\">\n      <!-- 0.2 -->\n      <g transform=\"translate(20.878125 82.28544)scale(0.1 -0.1)\">\n       <use xlink:href=\"#DejaVuSans-48\"/>\n       <use x=\"63.623047\" xlink:href=\"#DejaVuSans-46\"/>\n       <use x=\"95.410156\" xlink:href=\"#DejaVuSans-50\"/>\n      </g>\n     </g>\n    </g>\n    <g id=\"ytick_4\">\n     <g id=\"line2d_21\">\n      <path clip-path=\"url(#p2552a2c08f)\" d=\"M 43.78125 47.517968 \nL 294.88125 47.517968 \n\" style=\"fill:none;stroke:#b0b0b0;stroke-linecap:square;stroke-width:0.8;\"/>\n     </g>\n     <g id=\"line2d_22\">\n      <g>\n       <use style=\"stroke:#000000;stroke-width:0.8;\" x=\"43.78125\" xlink:href=\"#m0f7ee114f8\" y=\"47.517968\"/>\n      </g>\n     </g>\n     <g id=\"text_12\">\n      <!-- 0.3 -->\n      <defs>\n       <path d=\"M 40.578125 39.3125 \nQ 47.65625 37.796875 51.625 33 \nQ 55.609375 28.21875 55.609375 21.1875 \nQ 55.609375 10.40625 48.1875 4.484375 \nQ 40.765625 -1.421875 27.09375 -1.421875 \nQ 22.515625 -1.421875 17.65625 -0.515625 \nQ 12.796875 0.390625 7.625 2.203125 \nL 7.625 11.71875 \nQ 11.71875 9.328125 16.59375 8.109375 \nQ 21.484375 6.890625 26.8125 6.890625 \nQ 36.078125 6.890625 40.9375 10.546875 \nQ 45.796875 14.203125 45.796875 21.1875 \nQ 45.796875 27.640625 41.28125 31.265625 \nQ 36.765625 34.90625 28.71875 34.90625 \nL 20.21875 34.90625 \nL 20.21875 43.015625 \nL 29.109375 43.015625 \nQ 36.375 43.015625 40.234375 45.921875 \nQ 44.09375 48.828125 44.09375 54.296875 \nQ 44.09375 59.90625 40.109375 62.90625 \nQ 36.140625 65.921875 28.71875 65.921875 \nQ 24.65625 65.921875 20.015625 65.03125 \nQ 15.375 64.15625 9.8125 62.3125 \nL 9.8125 71.09375 \nQ 15.4375 72.65625 20.34375 73.4375 \nQ 25.25 74.21875 29.59375 74.21875 \nQ 40.828125 74.21875 47.359375 69.109375 \nQ 53.90625 64.015625 53.90625 55.328125 \nQ 53.90625 49.265625 50.4375 45.09375 \nQ 46.96875 40.921875 40.578125 39.3125 \nz\n\" id=\"DejaVuSans-51\"/>\n      </defs>\n      <g transform=\"translate(20.878125 51.317187)scale(0.1 -0.1)\">\n       <use xlink:href=\"#DejaVuSans-48\"/>\n       <use x=\"63.623047\" xlink:href=\"#DejaVuSans-46\"/>\n       <use x=\"95.410156\" xlink:href=\"#DejaVuSans-51\"/>\n      </g>\n     </g>\n    </g>\n    <g id=\"ytick_5\">\n     <g id=\"line2d_23\">\n      <path clip-path=\"url(#p2552a2c08f)\" d=\"M 43.78125 16.549715 \nL 294.88125 16.549715 \n\" style=\"fill:none;stroke:#b0b0b0;stroke-linecap:square;stroke-width:0.8;\"/>\n     </g>\n     <g id=\"line2d_24\">\n      <g>\n       <use style=\"stroke:#000000;stroke-width:0.8;\" x=\"43.78125\" xlink:href=\"#m0f7ee114f8\" y=\"16.549715\"/>\n      </g>\n     </g>\n     <g id=\"text_13\">\n      <!-- 0.4 -->\n      <g transform=\"translate(20.878125 20.348934)scale(0.1 -0.1)\">\n       <use xlink:href=\"#DejaVuSans-48\"/>\n       <use x=\"63.623047\" xlink:href=\"#DejaVuSans-46\"/>\n       <use x=\"95.410156\" xlink:href=\"#DejaVuSans-52\"/>\n      </g>\n     </g>\n    </g>\n    <g id=\"text_14\">\n     <!-- p(x) -->\n     <defs>\n      <path d=\"M 18.109375 8.203125 \nL 18.109375 -20.796875 \nL 9.078125 -20.796875 \nL 9.078125 54.6875 \nL 18.109375 54.6875 \nL 18.109375 46.390625 \nQ 20.953125 51.265625 25.265625 53.625 \nQ 29.59375 56 35.59375 56 \nQ 45.5625 56 51.78125 48.09375 \nQ 58.015625 40.1875 58.015625 27.296875 \nQ 58.015625 14.40625 51.78125 6.484375 \nQ 45.5625 -1.421875 35.59375 -1.421875 \nQ 29.59375 -1.421875 25.265625 0.953125 \nQ 20.953125 3.328125 18.109375 8.203125 \nz\nM 48.6875 27.296875 \nQ 48.6875 37.203125 44.609375 42.84375 \nQ 40.53125 48.484375 33.40625 48.484375 \nQ 26.265625 48.484375 22.1875 42.84375 \nQ 18.109375 37.203125 18.109375 27.296875 \nQ 18.109375 17.390625 22.1875 11.75 \nQ 26.265625 6.109375 33.40625 6.109375 \nQ 40.53125 6.109375 44.609375 11.75 \nQ 48.6875 17.390625 48.6875 27.296875 \nz\n\" id=\"DejaVuSans-112\"/>\n      <path d=\"M 31 75.875 \nQ 24.46875 64.65625 21.28125 53.65625 \nQ 18.109375 42.671875 18.109375 31.390625 \nQ 18.109375 20.125 21.3125 9.0625 \nQ 24.515625 -2 31 -13.1875 \nL 23.1875 -13.1875 \nQ 15.875 -1.703125 12.234375 9.375 \nQ 8.59375 20.453125 8.59375 31.390625 \nQ 8.59375 42.28125 12.203125 53.3125 \nQ 15.828125 64.359375 23.1875 75.875 \nz\n\" id=\"DejaVuSans-40\"/>\n      <path d=\"M 8.015625 75.875 \nL 15.828125 75.875 \nQ 23.140625 64.359375 26.78125 53.3125 \nQ 30.421875 42.28125 30.421875 31.390625 \nQ 30.421875 20.453125 26.78125 9.375 \nQ 23.140625 -1.703125 15.828125 -13.1875 \nL 8.015625 -13.1875 \nQ 14.5 -2 17.703125 9.0625 \nQ 20.90625 20.125 20.90625 31.390625 \nQ 20.90625 42.671875 17.703125 53.65625 \nQ 14.5 64.65625 8.015625 75.875 \nz\n\" id=\"DejaVuSans-41\"/>\n     </defs>\n     <g transform=\"translate(14.798438 88.685156)rotate(-90)scale(0.1 -0.1)\">\n      <use xlink:href=\"#DejaVuSans-112\"/>\n      <use x=\"63.476562\" xlink:href=\"#DejaVuSans-40\"/>\n      <use x=\"102.490234\" xlink:href=\"#DejaVuSans-120\"/>\n      <use x=\"161.669922\" xlink:href=\"#DejaVuSans-41\"/>\n     </g>\n    </g>\n   </g>\n   <g id=\"line2d_25\">\n    <path clip-path=\"url(#p2552a2c08f)\" d=\"M 55.194886 140.422727 \nL 108.224648 140.313535 \nL 113.609208 140.066288 \nL 117.198915 139.684417 \nL 119.97278 139.168952 \nL 122.257139 138.525186 \nL 124.215161 137.757847 \nL 126.010014 136.830368 \nL 127.804868 135.638334 \nL 129.436552 134.279445 \nL 131.068237 132.613085 \nL 132.699922 130.593512 \nL 134.331607 128.17477 \nL 135.963292 125.312692 \nL 137.594977 121.967288 \nL 139.226662 118.105495 \nL 141.021516 113.233818 \nL 142.816369 107.697078 \nL 144.774391 100.912516 \nL 146.895582 92.747632 \nL 149.506278 81.724523 \nL 153.259153 64.739305 \nL 157.501534 45.775258 \nL 159.785893 36.613056 \nL 161.580746 30.320515 \nL 163.049263 25.924523 \nL 164.354611 22.673268 \nL 165.49679 20.384633 \nL 166.475801 18.862585 \nL 167.454812 17.763605 \nL 168.270655 17.179589 \nL 169.086497 16.901979 \nL 169.739171 16.901979 \nL 170.391845 17.099455 \nL 171.207688 17.622466 \nL 172.02353 18.448577 \nL 173.002541 19.831186 \nL 173.981552 21.62656 \nL 175.123732 24.217347 \nL 176.42908 27.786979 \nL 177.897596 32.500684 \nL 179.69245 39.115359 \nL 181.81364 47.867165 \nL 184.913841 61.745076 \nL 190.46157 86.661144 \nL 192.909098 96.615047 \nL 195.030288 104.399673 \nL 196.98831 110.799489 \nL 198.783164 115.973243 \nL 200.578017 120.486089 \nL 202.209702 124.034567 \nL 203.841387 127.0855 \nL 205.473072 129.676453 \nL 207.104757 131.85023 \nL 208.736442 133.652334 \nL 210.368127 135.128806 \nL 211.999812 136.324481 \nL 213.794665 137.365803 \nL 215.752687 138.23293 \nL 217.873878 138.921686 \nL 220.321405 139.47206 \nL 223.258438 139.889278 \nL 227.011314 140.17952 \nL 232.395874 140.350878 \nL 243.001826 140.417995 \nL 283.467614 140.422727 \nL 283.467614 140.422727 \n\" style=\"fill:none;stroke:#1f77b4;stroke-linecap:square;stroke-width:1.5;\"/>\n   </g>\n   <g id=\"line2d_26\">\n    <path clip-path=\"url(#p2552a2c08f)\" d=\"M 55.194886 140.2876 \nL 65.800839 140.022951 \nL 73.143421 139.626434 \nL 79.017487 139.090287 \nL 83.912542 138.426494 \nL 88.318091 137.605229 \nL 92.234135 136.653577 \nL 95.823842 135.56316 \nL 99.250381 134.298749 \nL 102.51375 132.867709 \nL 105.77712 131.195008 \nL 109.04049 129.264111 \nL 112.30386 127.063438 \nL 115.56723 124.587897 \nL 118.993769 121.696043 \nL 122.583476 118.360886 \nL 126.49952 114.403144 \nL 131.068237 109.448686 \nL 138.247651 101.270807 \nL 144.611223 94.144946 \nL 148.527267 90.089675 \nL 151.790637 87.030672 \nL 154.564501 84.724436 \nL 157.175197 82.844214 \nL 159.459556 81.457408 \nL 161.743915 80.332365 \nL 163.865105 79.536198 \nL 165.823127 79.022597 \nL 167.781149 78.727168 \nL 169.739171 78.653089 \nL 171.697193 78.801158 \nL 173.655215 79.16978 \nL 175.613237 79.754995 \nL 177.734428 80.626088 \nL 179.855618 81.733161 \nL 182.139977 83.173625 \nL 184.587504 84.98006 \nL 187.361369 87.320867 \nL 190.46157 90.251111 \nL 194.051277 93.969337 \nL 198.783164 99.221751 \nL 211.673475 113.715093 \nL 215.752687 117.883393 \nL 219.505563 121.40542 \nL 222.932101 124.32526 \nL 226.195471 126.828273 \nL 229.458841 129.056324 \nL 232.722211 131.013772 \nL 235.985581 132.711619 \nL 239.248951 134.165971 \nL 242.675489 135.45258 \nL 246.265196 136.563568 \nL 250.18124 137.534481 \nL 254.423621 138.346714 \nL 259.155508 139.014669 \nL 264.540068 139.540363 \nL 270.903639 139.932354 \nL 279.225233 140.207949 \nL 283.467614 140.285216 \nL 283.467614 140.285216 \n\" style=\"fill:none;stroke:#bf00bf;stroke-dasharray:5.55,2.4;stroke-dashoffset:0;stroke-width:1.5;\"/>\n   </g>\n   <g id=\"line2d_27\">\n    <path clip-path=\"url(#p2552a2c08f)\" d=\"M 55.194886 140.422727 \nL 157.175197 140.313535 \nL 162.559757 140.066288 \nL 166.149464 139.684417 \nL 168.923329 139.168952 \nL 171.207688 138.525186 \nL 173.16571 137.757847 \nL 174.960563 136.830368 \nL 176.755417 135.638334 \nL 178.387102 134.279445 \nL 180.018787 132.613085 \nL 181.650472 130.593512 \nL 183.282156 128.17477 \nL 184.913841 125.312692 \nL 186.545526 121.967288 \nL 188.177211 118.105495 \nL 189.972065 113.233818 \nL 191.766918 107.697078 \nL 193.72494 100.912516 \nL 195.846131 92.747632 \nL 198.456827 81.724523 \nL 202.209702 64.739305 \nL 206.452083 45.775258 \nL 208.736442 36.613056 \nL 210.531295 30.320515 \nL 211.999812 25.924523 \nL 213.30516 22.673268 \nL 214.447339 20.384633 \nL 215.42635 18.862585 \nL 216.405361 17.763605 \nL 217.221204 17.179589 \nL 218.037046 16.901979 \nL 218.68972 16.901979 \nL 219.342394 17.099455 \nL 220.158237 17.622466 \nL 220.974079 18.448577 \nL 221.95309 19.831186 \nL 222.932101 21.62656 \nL 224.074281 24.217347 \nL 225.379629 27.786979 \nL 226.848145 32.500684 \nL 228.642999 39.115359 \nL 230.764189 47.867165 \nL 233.864391 61.745076 \nL 239.412119 86.661144 \nL 241.859647 96.615047 \nL 243.980837 104.399673 \nL 245.938859 110.799489 \nL 247.733713 115.973243 \nL 249.528566 120.486089 \nL 251.160251 124.034567 \nL 252.791936 127.0855 \nL 254.423621 129.676453 \nL 256.055306 131.85023 \nL 257.686991 133.652334 \nL 259.318676 135.128806 \nL 260.950361 136.324481 \nL 262.745215 137.365803 \nL 264.703236 138.23293 \nL 266.824427 138.921686 \nL 269.271954 139.47206 \nL 272.208987 139.889278 \nL 275.961863 140.17952 \nL 281.346423 140.350878 \nL 283.467614 140.379593 \nL 283.467614 140.379593 \n\" style=\"fill:none;stroke:#008000;stroke-dasharray:9.6,2.4,1.5,2.4;stroke-dashoffset:0;stroke-width:1.5;\"/>\n   </g>\n   <g id=\"patch_3\">\n    <path d=\"M 43.78125 146.6 \nL 43.78125 10.7 \n\" style=\"fill:none;stroke:#000000;stroke-linecap:square;stroke-linejoin:miter;stroke-width:0.8;\"/>\n   </g>\n   <g id=\"patch_4\">\n    <path d=\"M 294.88125 146.6 \nL 294.88125 10.7 \n\" style=\"fill:none;stroke:#000000;stroke-linecap:square;stroke-linejoin:miter;stroke-width:0.8;\"/>\n   </g>\n   <g id=\"patch_5\">\n    <path d=\"M 43.78125 146.6 \nL 294.88125 146.6 \n\" style=\"fill:none;stroke:#000000;stroke-linecap:square;stroke-linejoin:miter;stroke-width:0.8;\"/>\n   </g>\n   <g id=\"patch_6\">\n    <path d=\"M 43.78125 10.7 \nL 294.88125 10.7 \n\" style=\"fill:none;stroke:#000000;stroke-linecap:square;stroke-linejoin:miter;stroke-width:0.8;\"/>\n   </g>\n   <g id=\"legend_1\">\n    <g id=\"patch_7\">\n     <path d=\"M 50.78125 62.734375 \nL 152.05625 62.734375 \nQ 154.05625 62.734375 154.05625 60.734375 \nL 154.05625 17.7 \nQ 154.05625 15.7 152.05625 15.7 \nL 50.78125 15.7 \nQ 48.78125 15.7 48.78125 17.7 \nL 48.78125 60.734375 \nQ 48.78125 62.734375 50.78125 62.734375 \nz\n\" style=\"fill:#ffffff;opacity:0.8;stroke:#cccccc;stroke-linejoin:miter;\"/>\n    </g>\n    <g id=\"line2d_28\">\n     <path d=\"M 52.78125 23.798437 \nL 72.78125 23.798437 \n\" style=\"fill:none;stroke:#1f77b4;stroke-linecap:square;stroke-width:1.5;\"/>\n    </g>\n    <g id=\"line2d_29\"/>\n    <g id=\"text_15\">\n     <!-- mean 0, std 1 -->\n     <defs>\n      <path d=\"M 52 44.1875 \nQ 55.375 50.25 60.0625 53.125 \nQ 64.75 56 71.09375 56 \nQ 79.640625 56 84.28125 50.015625 \nQ 88.921875 44.046875 88.921875 33.015625 \nL 88.921875 0 \nL 79.890625 0 \nL 79.890625 32.71875 \nQ 79.890625 40.578125 77.09375 44.375 \nQ 74.3125 48.1875 68.609375 48.1875 \nQ 61.625 48.1875 57.5625 43.546875 \nQ 53.515625 38.921875 53.515625 30.90625 \nL 53.515625 0 \nL 44.484375 0 \nL 44.484375 32.71875 \nQ 44.484375 40.625 41.703125 44.40625 \nQ 38.921875 48.1875 33.109375 48.1875 \nQ 26.21875 48.1875 22.15625 43.53125 \nQ 18.109375 38.875 18.109375 30.90625 \nL 18.109375 0 \nL 9.078125 0 \nL 9.078125 54.6875 \nL 18.109375 54.6875 \nL 18.109375 46.1875 \nQ 21.1875 51.21875 25.484375 53.609375 \nQ 29.78125 56 35.6875 56 \nQ 41.65625 56 45.828125 52.96875 \nQ 50 49.953125 52 44.1875 \nz\n\" id=\"DejaVuSans-109\"/>\n      <path d=\"M 56.203125 29.59375 \nL 56.203125 25.203125 \nL 14.890625 25.203125 \nQ 15.484375 15.921875 20.484375 11.0625 \nQ 25.484375 6.203125 34.421875 6.203125 \nQ 39.59375 6.203125 44.453125 7.46875 \nQ 49.3125 8.734375 54.109375 11.28125 \nL 54.109375 2.78125 \nQ 49.265625 0.734375 44.1875 -0.34375 \nQ 39.109375 -1.421875 33.890625 -1.421875 \nQ 20.796875 -1.421875 13.15625 6.1875 \nQ 5.515625 13.8125 5.515625 26.8125 \nQ 5.515625 40.234375 12.765625 48.109375 \nQ 20.015625 56 32.328125 56 \nQ 43.359375 56 49.78125 48.890625 \nQ 56.203125 41.796875 56.203125 29.59375 \nz\nM 47.21875 32.234375 \nQ 47.125 39.59375 43.09375 43.984375 \nQ 39.0625 48.390625 32.421875 48.390625 \nQ 24.90625 48.390625 20.390625 44.140625 \nQ 15.875 39.890625 15.1875 32.171875 \nz\n\" id=\"DejaVuSans-101\"/>\n      <path d=\"M 34.28125 27.484375 \nQ 23.390625 27.484375 19.1875 25 \nQ 14.984375 22.515625 14.984375 16.5 \nQ 14.984375 11.71875 18.140625 8.90625 \nQ 21.296875 6.109375 26.703125 6.109375 \nQ 34.1875 6.109375 38.703125 11.40625 \nQ 43.21875 16.703125 43.21875 25.484375 \nL 43.21875 27.484375 \nz\nM 52.203125 31.203125 \nL 52.203125 0 \nL 43.21875 0 \nL 43.21875 8.296875 \nQ 40.140625 3.328125 35.546875 0.953125 \nQ 30.953125 -1.421875 24.3125 -1.421875 \nQ 15.921875 -1.421875 10.953125 3.296875 \nQ 6 8.015625 6 15.921875 \nQ 6 25.140625 12.171875 29.828125 \nQ 18.359375 34.515625 30.609375 34.515625 \nL 43.21875 34.515625 \nL 43.21875 35.40625 \nQ 43.21875 41.609375 39.140625 45 \nQ 35.0625 48.390625 27.6875 48.390625 \nQ 23 48.390625 18.546875 47.265625 \nQ 14.109375 46.140625 10.015625 43.890625 \nL 10.015625 52.203125 \nQ 14.9375 54.109375 19.578125 55.046875 \nQ 24.21875 56 28.609375 56 \nQ 40.484375 56 46.34375 49.84375 \nQ 52.203125 43.703125 52.203125 31.203125 \nz\n\" id=\"DejaVuSans-97\"/>\n      <path d=\"M 54.890625 33.015625 \nL 54.890625 0 \nL 45.90625 0 \nL 45.90625 32.71875 \nQ 45.90625 40.484375 42.875 44.328125 \nQ 39.84375 48.1875 33.796875 48.1875 \nQ 26.515625 48.1875 22.3125 43.546875 \nQ 18.109375 38.921875 18.109375 30.90625 \nL 18.109375 0 \nL 9.078125 0 \nL 9.078125 54.6875 \nL 18.109375 54.6875 \nL 18.109375 46.1875 \nQ 21.34375 51.125 25.703125 53.5625 \nQ 30.078125 56 35.796875 56 \nQ 45.21875 56 50.046875 50.171875 \nQ 54.890625 44.34375 54.890625 33.015625 \nz\n\" id=\"DejaVuSans-110\"/>\n      <path id=\"DejaVuSans-32\"/>\n      <path d=\"M 11.71875 12.40625 \nL 22.015625 12.40625 \nL 22.015625 4 \nL 14.015625 -11.625 \nL 7.71875 -11.625 \nL 11.71875 4 \nz\n\" id=\"DejaVuSans-44\"/>\n      <path d=\"M 44.28125 53.078125 \nL 44.28125 44.578125 \nQ 40.484375 46.53125 36.375 47.5 \nQ 32.28125 48.484375 27.875 48.484375 \nQ 21.1875 48.484375 17.84375 46.4375 \nQ 14.5 44.390625 14.5 40.28125 \nQ 14.5 37.15625 16.890625 35.375 \nQ 19.28125 33.59375 26.515625 31.984375 \nL 29.59375 31.296875 \nQ 39.15625 29.25 43.1875 25.515625 \nQ 47.21875 21.78125 47.21875 15.09375 \nQ 47.21875 7.46875 41.1875 3.015625 \nQ 35.15625 -1.421875 24.609375 -1.421875 \nQ 20.21875 -1.421875 15.453125 -0.5625 \nQ 10.6875 0.296875 5.421875 2 \nL 5.421875 11.28125 \nQ 10.40625 8.6875 15.234375 7.390625 \nQ 20.0625 6.109375 24.8125 6.109375 \nQ 31.15625 6.109375 34.5625 8.28125 \nQ 37.984375 10.453125 37.984375 14.40625 \nQ 37.984375 18.0625 35.515625 20.015625 \nQ 33.0625 21.96875 24.703125 23.78125 \nL 21.578125 24.515625 \nQ 13.234375 26.265625 9.515625 29.90625 \nQ 5.8125 33.546875 5.8125 39.890625 \nQ 5.8125 47.609375 11.28125 51.796875 \nQ 16.75 56 26.8125 56 \nQ 31.78125 56 36.171875 55.265625 \nQ 40.578125 54.546875 44.28125 53.078125 \nz\n\" id=\"DejaVuSans-115\"/>\n      <path d=\"M 18.3125 70.21875 \nL 18.3125 54.6875 \nL 36.8125 54.6875 \nL 36.8125 47.703125 \nL 18.3125 47.703125 \nL 18.3125 18.015625 \nQ 18.3125 11.328125 20.140625 9.421875 \nQ 21.96875 7.515625 27.59375 7.515625 \nL 36.8125 7.515625 \nL 36.8125 0 \nL 27.59375 0 \nQ 17.1875 0 13.234375 3.875 \nQ 9.28125 7.765625 9.28125 18.015625 \nL 9.28125 47.703125 \nL 2.6875 47.703125 \nL 2.6875 54.6875 \nL 9.28125 54.6875 \nL 9.28125 70.21875 \nz\n\" id=\"DejaVuSans-116\"/>\n      <path d=\"M 45.40625 46.390625 \nL 45.40625 75.984375 \nL 54.390625 75.984375 \nL 54.390625 0 \nL 45.40625 0 \nL 45.40625 8.203125 \nQ 42.578125 3.328125 38.25 0.953125 \nQ 33.9375 -1.421875 27.875 -1.421875 \nQ 17.96875 -1.421875 11.734375 6.484375 \nQ 5.515625 14.40625 5.515625 27.296875 \nQ 5.515625 40.1875 11.734375 48.09375 \nQ 17.96875 56 27.875 56 \nQ 33.9375 56 38.25 53.625 \nQ 42.578125 51.265625 45.40625 46.390625 \nz\nM 14.796875 27.296875 \nQ 14.796875 17.390625 18.875 11.75 \nQ 22.953125 6.109375 30.078125 6.109375 \nQ 37.203125 6.109375 41.296875 11.75 \nQ 45.40625 17.390625 45.40625 27.296875 \nQ 45.40625 37.203125 41.296875 42.84375 \nQ 37.203125 48.484375 30.078125 48.484375 \nQ 22.953125 48.484375 18.875 42.84375 \nQ 14.796875 37.203125 14.796875 27.296875 \nz\n\" id=\"DejaVuSans-100\"/>\n     </defs>\n     <g transform=\"translate(80.78125 27.298437)scale(0.1 -0.1)\">\n      <use xlink:href=\"#DejaVuSans-109\"/>\n      <use x=\"97.412109\" xlink:href=\"#DejaVuSans-101\"/>\n      <use x=\"158.935547\" xlink:href=\"#DejaVuSans-97\"/>\n      <use x=\"220.214844\" xlink:href=\"#DejaVuSans-110\"/>\n      <use x=\"283.59375\" xlink:href=\"#DejaVuSans-32\"/>\n      <use x=\"315.380859\" xlink:href=\"#DejaVuSans-48\"/>\n      <use x=\"379.003906\" xlink:href=\"#DejaVuSans-44\"/>\n      <use x=\"410.791016\" xlink:href=\"#DejaVuSans-32\"/>\n      <use x=\"442.578125\" xlink:href=\"#DejaVuSans-115\"/>\n      <use x=\"494.677734\" xlink:href=\"#DejaVuSans-116\"/>\n      <use x=\"533.886719\" xlink:href=\"#DejaVuSans-100\"/>\n      <use x=\"597.363281\" xlink:href=\"#DejaVuSans-32\"/>\n      <use x=\"629.150391\" xlink:href=\"#DejaVuSans-49\"/>\n     </g>\n    </g>\n    <g id=\"line2d_30\">\n     <path d=\"M 52.78125 38.476562 \nL 72.78125 38.476562 \n\" style=\"fill:none;stroke:#bf00bf;stroke-dasharray:5.55,2.4;stroke-dashoffset:0;stroke-width:1.5;\"/>\n    </g>\n    <g id=\"line2d_31\"/>\n    <g id=\"text_16\">\n     <!-- mean 0, std 2 -->\n     <g transform=\"translate(80.78125 41.976562)scale(0.1 -0.1)\">\n      <use xlink:href=\"#DejaVuSans-109\"/>\n      <use x=\"97.412109\" xlink:href=\"#DejaVuSans-101\"/>\n      <use x=\"158.935547\" xlink:href=\"#DejaVuSans-97\"/>\n      <use x=\"220.214844\" xlink:href=\"#DejaVuSans-110\"/>\n      <use x=\"283.59375\" xlink:href=\"#DejaVuSans-32\"/>\n      <use x=\"315.380859\" xlink:href=\"#DejaVuSans-48\"/>\n      <use x=\"379.003906\" xlink:href=\"#DejaVuSans-44\"/>\n      <use x=\"410.791016\" xlink:href=\"#DejaVuSans-32\"/>\n      <use x=\"442.578125\" xlink:href=\"#DejaVuSans-115\"/>\n      <use x=\"494.677734\" xlink:href=\"#DejaVuSans-116\"/>\n      <use x=\"533.886719\" xlink:href=\"#DejaVuSans-100\"/>\n      <use x=\"597.363281\" xlink:href=\"#DejaVuSans-32\"/>\n      <use x=\"629.150391\" xlink:href=\"#DejaVuSans-50\"/>\n     </g>\n    </g>\n    <g id=\"line2d_32\">\n     <path d=\"M 52.78125 53.154687 \nL 72.78125 53.154687 \n\" style=\"fill:none;stroke:#008000;stroke-dasharray:9.6,2.4,1.5,2.4;stroke-dashoffset:0;stroke-width:1.5;\"/>\n    </g>\n    <g id=\"line2d_33\"/>\n    <g id=\"text_17\">\n     <!-- mean 3, std 1 -->\n     <g transform=\"translate(80.78125 56.654687)scale(0.1 -0.1)\">\n      <use xlink:href=\"#DejaVuSans-109\"/>\n      <use x=\"97.412109\" xlink:href=\"#DejaVuSans-101\"/>\n      <use x=\"158.935547\" xlink:href=\"#DejaVuSans-97\"/>\n      <use x=\"220.214844\" xlink:href=\"#DejaVuSans-110\"/>\n      <use x=\"283.59375\" xlink:href=\"#DejaVuSans-32\"/>\n      <use x=\"315.380859\" xlink:href=\"#DejaVuSans-51\"/>\n      <use x=\"379.003906\" xlink:href=\"#DejaVuSans-44\"/>\n      <use x=\"410.791016\" xlink:href=\"#DejaVuSans-32\"/>\n      <use x=\"442.578125\" xlink:href=\"#DejaVuSans-115\"/>\n      <use x=\"494.677734\" xlink:href=\"#DejaVuSans-116\"/>\n      <use x=\"533.886719\" xlink:href=\"#DejaVuSans-100\"/>\n      <use x=\"597.363281\" xlink:href=\"#DejaVuSans-32\"/>\n      <use x=\"629.150391\" xlink:href=\"#DejaVuSans-49\"/>\n     </g>\n    </g>\n   </g>\n  </g>\n </g>\n <defs>\n  <clipPath id=\"p2552a2c08f\">\n   <rect height=\"135.9\" width=\"251.1\" x=\"43.78125\" y=\"10.7\"/>\n  </clipPath>\n </defs>\n</svg>\n"
          },
          "metadata": {
            "needs_background": "light"
          }
        }
      ]
    },
    {
      "cell_type": "markdown",
      "source": [
        "As we can see, changing the mean corresponds to a shift along the  x -axis, and increasing the variance spreads the distribution out, lowering its peak."
      ],
      "metadata": {
        "id": "Ztsn_KifgCDh"
      }
    },
    {
      "cell_type": "markdown",
      "source": [
        "##3.14. From Linear Regression to Deep Networks"
      ],
      "metadata": {
        "id": "9E6VssBjhFM9"
      }
    },
    {
      "cell_type": "markdown",
      "source": [
        "###3.1.4.1. Neural Network Diagram\n",
        "![Linear regression is a single-layer neural network.](http://d2l.ai/_images/singleneuron.svg)\n",
        "\n",
        "For the neural network shown above,\n",
        "the inputs are $x_1, \\ldots, x_d$,\n",
        "so the *number of inputs* (or *feature dimensionality*) in the input layer is $d$.\n",
        "\n",
        "The output of the network above is $o_1$,\n",
        "so the *number of outputs* in the output layer is 1.\n",
        "\n",
        "Focusing on where computation takes place,\n",
        "conventionally we do not consider the input layer when counting layers.\n",
        "That is to say,\n",
        "the *number of layers* for the neural network in the case-above is 1.\n",
        "\n",
        "We can think of linear regression models as neural networks\n",
        "consisting of just a single artificial neuron,\n",
        "or as single-layer neural networks.\n",
        "\n",
        "Since for linear regression, every input is connected\n",
        "to every output (in this case there is only one output),\n",
        "we can regard this transformation as a fully-connected layer or *dense layer*.\n"
      ],
      "metadata": {
        "id": "gOcFNftEhOuO"
      }
    },
    {
      "cell_type": "markdown",
      "source": [
        "###3.1.4.2. Biology\n",
        "![The real neuron.](http://d2l.ai/_images/neuron.svg)\n",
        "\n",
        "Information $x_i$ arriving from other neurons\n",
        "(or environmental sensors such as the retina)\n",
        "is received in the dendrites.\n",
        "In particular, that information is weighted by *synaptic weights* $w_i$\n",
        "determining the effect of the inputs\n",
        "(e.g., activation or inhibition via the product $x_i w_i$).\n",
        "The weighted inputs arriving from multiple sources\n",
        "are aggregated in the nucleus as a weighted sum $y = \\sum_i x_i w_i + b$,\n",
        "and this information is then sent for further processing in the axon $y$,\n",
        "typically after some nonlinear processing via $\\sigma(y)$.\n",
        "From there it either reaches its destination (e.g., a muscle)\n",
        "or is fed into another neuron via its dendrites.\n"
      ],
      "metadata": {
        "id": "C_O-q2Wmj6I8"
      }
    }
  ]
}
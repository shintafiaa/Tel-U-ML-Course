{
  "nbformat": 4,
  "nbformat_minor": 0,
  "metadata": {
    "colab": {
      "name": "4.7. Forward Propagation, Backward Propagation, and Computational Graphs.ipynb",
      "provenance": [],
      "authorship_tag": "ABX9TyPWyU6cr+SgNptGTb5WNoXg",
      "include_colab_link": true
    },
    "kernelspec": {
      "name": "python3",
      "display_name": "Python 3"
    },
    "language_info": {
      "name": "python"
    }
  },
  "cells": [
    {
      "cell_type": "markdown",
      "metadata": {
        "id": "view-in-github",
        "colab_type": "text"
      },
      "source": [
        "<a href=\"https://colab.research.google.com/github/shintafiaa/Tel-U-ML-Course/blob/main/WEEK%209%20Multi%20Layer%20Perceptron%20and%20NN/4.7.%20Forward_Propagation%2C_Backward_Propagation%2C_and_Computational_Graphs.ipynb\" target=\"_parent\"><img src=\"https://colab.research.google.com/assets/colab-badge.svg\" alt=\"Open In Colab\"/></a>"
      ]
    },
    {
      "cell_type": "markdown",
      "source": [
        "In this section, we take a deep dive into the details of backward propagation (more commonly called backpropagation)."
      ],
      "metadata": {
        "id": "f1sKQ3TD3jyk"
      }
    },
    {
      "cell_type": "markdown",
      "source": [
        "##Forward Propagation\n",
        "Forward propagation (or forward pass) refers to the calculation and storage of intermediate variables (including outputs) for a neural network in order from the input layer to the output layer."
      ],
      "metadata": {
        "id": "iTozxWTM3lYp"
      }
    },
    {
      "cell_type": "markdown",
      "source": [
        "##Backpropagation\n",
        "Backpropagation refers to the method of calculating the gradient of neural network parameters. In short, the method traverses the network in reverse order, from the output to the input layer."
      ],
      "metadata": {
        "id": "CC9grUxC33nD"
      }
    },
    {
      "cell_type": "markdown",
      "source": [
        "##Training Neural Networks\n",
        "When training neural networks, after model parameters are initialized, we alternate forward propagation with backpropagation, updating model parameters using gradients given by backpropagation."
      ],
      "metadata": {
        "id": "roQ9s5hb4EbR"
      }
    },
    {
      "cell_type": "markdown",
      "source": [
        "##Summary\n",
        "When training deep learning models, forward propagation and back propagation are interdependent.\n",
        "\n",
        "Training requires significantly more memory than prediction."
      ],
      "metadata": {
        "id": "sEhau7jb4i0N"
      }
    }
  ]
}